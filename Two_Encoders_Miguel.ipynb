{
 "cells": [
  {
   "cell_type": "code",
   "execution_count": 208,
   "metadata": {
    "colab": {
     "base_uri": "https://localhost:8080/"
    },
    "executionInfo": {
     "elapsed": 9990,
     "status": "ok",
     "timestamp": 1698410043190,
     "user": {
      "displayName": "Miguel de Llanza",
      "userId": "02333807101257220127"
     },
     "user_tz": -60
    },
    "id": "tbjGIs5uiFY2",
    "outputId": "7deaf83e-4562-4808-e5cf-460f311a007f"
   },
   "outputs": [],
   "source": [
    "import itertools as it\n",
    "from random import shuffle, sample\n",
    "import pickle as pkl\n",
    "\n",
    "# Upgrade version for K-means!\n",
    "#!pip install threadpoolctl==3.0\n",
    "#!pip install dit\n",
    "import numpy as np\n",
    "import pandas as pd\n",
    "from joblib import Memory\n",
    "from joblib import Parallel, delayed\n",
    "import matplotlib.pyplot as plt\n",
    "import seaborn as sns\n",
    "import sys\n",
    "import mnist\n",
    "import dit\n",
    "import dit.example_dists\n",
    "from dit.pid import *\n",
    "from PIL import Image\n",
    "import itertools\n",
    "from tqdm import tqdm\n",
    "from skimage import io\n",
    "from sklearn.cluster import KMeans\n",
    "from torchvision import datasets, transforms\n",
    "from scipy.spatial.distance import pdist, squareform"
   ]
  },
  {
   "cell_type": "code",
   "execution_count": 209,
   "metadata": {},
   "outputs": [],
   "source": [
    "transform = transforms.Compose([\n",
    "    transforms.Resize((28, 28)),  \n",
    "])"
   ]
  },
  {
   "cell_type": "code",
   "execution_count": 210,
   "metadata": {},
   "outputs": [
    {
     "name": "stdout",
     "output_type": "stream",
     "text": [
      "Files already downloaded and verified\n"
     ]
    }
   ],
   "source": [
    "fashion = datasets.FashionMNIST(root=\"\\.\", download=True, train=True)\n",
    "cifar_data = datasets.CIFAR10(root=\"\\.\", download=True, train=True, transform=transform)\n",
    "#imagenet = datasets.CIFAR100(root=\"\\.\", download=True, train=True)"
   ]
  },
  {
   "cell_type": "code",
   "execution_count": 211,
   "metadata": {},
   "outputs": [],
   "source": [
    "fashion = np.array(fashion.data)\n",
    "cifar_targets = np.array(cifar_data.targets)\n",
    "cifar = np.array(cifar_data.data)\n",
    "\n",
    "# ONLY CATS\n",
    "cat_class = 3\n",
    "cat_inds = cifar_targets == cat_class\n",
    "cifar_cats = cifar[cat_inds]"
   ]
  },
  {
   "cell_type": "code",
   "execution_count": 212,
   "metadata": {
    "executionInfo": {
     "elapsed": 516,
     "status": "ok",
     "timestamp": 1698410057194,
     "user": {
      "displayName": "Miguel de Llanza",
      "userId": "02333807101257220127"
     },
     "user_tz": -60
    },
    "id": "2uajOrZ4iFY5"
   },
   "outputs": [
    {
     "name": "stdout",
     "output_type": "stream",
     "text": [
      "The autoreload extension is already loaded. To reload it, use:\n",
      "  %reload_ext autoreload\n"
     ]
    }
   ],
   "source": [
    "location = './cachedir'\n",
    "memory = Memory(location, verbose=0)\n",
    "%matplotlib inline\n",
    "%load_ext autoreload\n",
    "%autoreload 2"
   ]
  },
  {
   "cell_type": "markdown",
   "metadata": {
    "id": "-HxzEPiQiFY5"
   },
   "source": [
    "# MNIST\n",
    "\n",
    "I first download mnist so as to have a \"fitness map\" that is not random"
   ]
  },
  {
   "cell_type": "code",
   "execution_count": 213,
   "metadata": {
    "colab": {
     "base_uri": "https://localhost:8080/"
    },
    "executionInfo": {
     "elapsed": 1190,
     "status": "ok",
     "timestamp": 1698410111846,
     "user": {
      "displayName": "Miguel de Llanza",
      "userId": "02333807101257220127"
     },
     "user_tz": -60
    },
    "id": "V-WsDAAeiFY6",
    "outputId": "cd7825cf-a4e5-4483-f630-a2e7cb73f7ad"
   },
   "outputs": [],
   "source": [
    "mnist.init_cached = memory.cache(mnist.init)\n",
    "mnist.init_cached()"
   ]
  },
  {
   "cell_type": "code",
   "execution_count": 214,
   "metadata": {
    "executionInfo": {
     "elapsed": 1,
     "status": "ok",
     "timestamp": 1698410111846,
     "user": {
      "displayName": "Miguel de Llanza",
      "userId": "02333807101257220127"
     },
     "user_tz": -60
    },
    "id": "BFXee6dmiFY6"
   },
   "outputs": [],
   "source": [
    "train, _, _, _ = mnist.load()"
   ]
  },
  {
   "cell_type": "code",
   "execution_count": 215,
   "metadata": {
    "executionInfo": {
     "elapsed": 1,
     "status": "ok",
     "timestamp": 1698410112380,
     "user": {
      "displayName": "Miguel de Llanza",
      "userId": "02333807101257220127"
     },
     "user_tz": -60
    },
    "id": "FQp6qeV1iFY7"
   },
   "outputs": [],
   "source": [
    "mns = train.reshape(60000, 28, 28)\n",
    "fashion = fashion.reshape(60000, 28, 28)"
   ]
  },
  {
   "cell_type": "code",
   "execution_count": 216,
   "metadata": {},
   "outputs": [
    {
     "data": {
      "text/plain": [
       "((60000, 28, 28), (28, 28), (32, 32, 3))"
      ]
     },
     "execution_count": 216,
     "metadata": {},
     "output_type": "execute_result"
    }
   ],
   "source": [
    "mns.shape, fashion[0].shape, cifar[0].shape"
   ]
  },
  {
   "cell_type": "code",
   "execution_count": 217,
   "metadata": {},
   "outputs": [
    {
     "data": {
      "text/plain": [
       "(5000, 32, 32, 3)"
      ]
     },
     "execution_count": 217,
     "metadata": {},
     "output_type": "execute_result"
    }
   ],
   "source": [
    "cifar_cats.data.shape"
   ]
  },
  {
   "cell_type": "code",
   "execution_count": 218,
   "metadata": {},
   "outputs": [
    {
     "data": {
      "text/plain": [
       "(5000, 32, 32, 1)"
      ]
     },
     "execution_count": 218,
     "metadata": {},
     "output_type": "execute_result"
    }
   ],
   "source": [
    "grey_cifar = np.mean(cifar_cats, axis=3, keepdims=True)\n",
    "grey_cifar.shape"
   ]
  },
  {
   "cell_type": "code",
   "execution_count": 220,
   "metadata": {},
   "outputs": [
    {
     "data": {
      "text/plain": [
       "<matplotlib.image.AxesImage at 0x30132a9d0>"
      ]
     },
     "execution_count": 220,
     "metadata": {},
     "output_type": "execute_result"
    },
    {
     "data": {
      "image/png": "[encoded data removed]",
      "text/plain": [
       "<Figure size 640x480 with 1 Axes>"
      ]
     },
     "metadata": {},
     "output_type": "display_data"
    }
   ],
   "source": [
    "plt.style.use('default')\n",
    "plt.imshow(grey_cifar[0])"
   ]
  },
  {
   "cell_type": "code",
   "execution_count": 223,
   "metadata": {},
   "outputs": [
    {
     "name": "stdout",
     "output_type": "stream",
     "text": [
      "cifar\n"
     ]
    }
   ],
   "source": [
    "DATASET = \"cifar\"\n",
    "rgb = False\n",
    "\n",
    "if DATASET == \"mnist\":\n",
    "    dataset = mns\n",
    "elif DATASET == \"fashion\":\n",
    "    dataset = fashion\n",
    "elif DATASET == \"cifar\":\n",
    "    dataset = grey_cifar\n",
    "    rgb = True\n",
    "else:\n",
    "    print(\"No valid dataset!!!\")\n",
    "    \n",
    "print(DATASET)\n",
    "n = 0"
   ]
  },
  {
   "cell_type": "code",
   "execution_count": 224,
   "metadata": {
    "colab": {
     "base_uri": "https://localhost:8080/",
     "height": 430
    },
    "executionInfo": {
     "elapsed": 434,
     "status": "ok",
     "timestamp": 1698410113109,
     "user": {
      "displayName": "Miguel de Llanza",
      "userId": "02333807101257220127"
     },
     "user_tz": -60
    },
    "id": "hAir1iUBiFY7",
    "outputId": "179af710-2b2e-4dd5-a664-4c6cdf4cb512",
    "scrolled": false
   },
   "outputs": [
    {
     "name": "stdout",
     "output_type": "stream",
     "text": [
      "1\n"
     ]
    },
    {
     "data": {
      "image/png": "[encoded data removed]",
      "text/plain": [
       "<Figure size 640x480 with 1 Axes>"
      ]
     },
     "metadata": {},
     "output_type": "display_data"
    }
   ],
   "source": [
    "n += 1\n",
    "print(n)\n",
    "plt.imshow(dataset[n])\n",
    "plt.savefig('mnistzero.png')"
   ]
  },
  {
   "cell_type": "markdown",
   "metadata": {
    "id": "bXyKmJc0iFY8"
   },
   "source": [
    "# The Algorithm\n",
    "\n",
    "It would work like this:\n",
    "\n",
    "1. Create random ENC1 and ENC2 maps\n",
    "2. Calculate the decoder with MSE with these maps\n",
    "3. Find a punctual change in ENC1 or ENC2 that results in a decrease in MSE\n",
    "4. Repeat 3 until convergence."
   ]
  },
  {
   "cell_type": "code",
   "execution_count": 225,
   "metadata": {
    "executionInfo": {
     "elapsed": 4,
     "status": "ok",
     "timestamp": 1698410304184,
     "user": {
      "displayName": "Miguel de Llanza",
      "userId": "02333807101257220127"
     },
     "user_tz": -60
    },
    "id": "Bewvx3JSiFY8"
   },
   "outputs": [],
   "source": [
    "class Algorithm:\n",
    "\n",
    "    def __init__(self, side, signals):\n",
    "        self.side = side\n",
    "        self.signals = signals\n",
    "\n",
    "    def random_enc(self):\n",
    "        \"\"\"\n",
    "        Return a random encoding strategy that assing one of <signals> many signals\n",
    "        to each of a number <side> of positions\n",
    "        \"\"\"\n",
    "        return np.random.randint(self.signals, size=(self.side))\n",
    "\n",
    "    def mmse_pairofsignals(self, signal1, signal2):\n",
    "        \"\"\"\n",
    "        Calculate the mmse estimator for a pair of signals, given a fitnessmap and two encoders\n",
    "        \"\"\"\n",
    "        iter1 = np.where(self.enc1 == signal1)[0]\n",
    "        iter2 = np.where(self.enc2 == signal2)[0]\n",
    "        samesignal = np.array(list(it.product(iter1, iter2)), dtype=int)\n",
    "        try:\n",
    "            return self.fitnessmap[samesignal[:, 0], samesignal[:, 1]]\n",
    "        except IndexError:\n",
    "            return np.array([])\n",
    "\n",
    "    def mmse_decoder(self):\n",
    "        \"\"\"\n",
    "        Calculate the mmse decoder for two encoders,\n",
    "        given a fitnessmap and a maximum number of signals\n",
    "        \"\"\"\n",
    "        # pairs: combinatorial of all possible pairs (i.e., [(0.0), (0,1), ..., (5, 5)])\n",
    "        pairs = list(it.product(range(self.signals), repeat=2))\n",
    "        \n",
    "        # decoder: uninitialized matrix array of 28x28 (affordance reconstruction)\n",
    "        decoder = np.empty((self.signals, self.signals))\n",
    "\n",
    "        samples = []\n",
    "        mse = []\n",
    "        for pair in pairs:\n",
    "            # *pair: unzip tuple: (0, 0) -> 0, 0\n",
    "            # values: get fitness values given the signals\n",
    "            values = self.mmse_pairofsignals(*pair)\n",
    "            if len(values) == 0:\n",
    "                continue\n",
    "            # assign the mean fitness value to the decoder's position\n",
    "            decoder[pair] = values.mean()\n",
    "            samples.append(values.shape[0])\n",
    "            # compute mean squared error\n",
    "            new_mse = ((values - values.mean()) ** 2).mean()\n",
    "            mse.append(new_mse)\n",
    "        \n",
    "        # since each \"batch\" might not have same size, we have to weight the contribution of each batch\n",
    "        # to the global mse\n",
    "        norm_samples = np.array(samples) / np.array(samples).sum()\n",
    "        return decoder, np.array(mse) @ norm_samples\n",
    "\n",
    "    def modify_enc(self, pair):\n",
    "        encoders = {0:self.enc1, 1:self.enc2}\n",
    "        index, enc = pair\n",
    "        enc1_backup = self.enc1.copy()\n",
    "        enc2_backup = self.enc2.copy()\n",
    "        actual_signal = encoders[enc][index]\n",
    "        loop = [signal for signal in range(self.signals) if signal != actual_signal]\n",
    "        for signal in loop:\n",
    "            encoders[enc][index] = signal\n",
    "            decoder, mse = self.mmse_decoder()\n",
    "            if mse < self.mse:\n",
    "                self.mse = mse\n",
    "                self.decoder = decoder\n",
    "                return True\n",
    "        self.enc1 = enc1_backup\n",
    "        self.enc2 = enc2_backup\n",
    "        return False\n",
    "\n",
    "    def modify_full(self):\n",
    "        shuffle_encoders = list(it.product(range(self.side), range(2)))\n",
    "        shuffle(shuffle_encoders)\n",
    "        for action in shuffle_encoders:\n",
    "            result = self.modify_enc(action)\n",
    "            if result:\n",
    "                return action\n",
    "        return False\n",
    "\n",
    "    def main_loop(self):\n",
    "        self.decoder, self.mse = self.mmse_decoder()\n",
    "        action = True\n",
    "        while action:\n",
    "            action = self.modify_full()\n",
    "        return self.mse\n",
    "\n",
    "    def represent(self, showimage=True):\n",
    "        canvass = np.empty((self.side, self.side))\n",
    "        for i, j in it.product(range(self.side), repeat=2):\n",
    "            canvass[i, j] = self.decoder[self.enc1[i], self.enc2[j]]\n",
    "        if showimage:\n",
    "            plt.imshow(canvass)\n",
    "        return canvass"
   ]
  },
  {
   "cell_type": "code",
   "execution_count": 226,
   "metadata": {
    "executionInfo": {
     "elapsed": 2,
     "status": "ok",
     "timestamp": 1698410305853,
     "user": {
      "displayName": "Miguel de Llanza",
      "userId": "02333807101257220127"
     },
     "user_tz": -60
    },
    "id": "dK_26RJ4iFY9"
   },
   "outputs": [],
   "source": [
    "# This means, create an algorithm for a 28x28 square image, and 6 signals\n",
    "algo = Algorithm(dataset[n].shape[0], 6)"
   ]
  },
  {
   "cell_type": "code",
   "execution_count": 227,
   "metadata": {
    "executionInfo": {
     "elapsed": 2,
     "status": "ok",
     "timestamp": 1698410306129,
     "user": {
      "displayName": "Miguel de Llanza",
      "userId": "02333807101257220127"
     },
     "user_tz": -60
    },
    "id": "f9Qq1GvFiFY9"
   },
   "outputs": [],
   "source": [
    "# Start with random encoders\n",
    "algo.enc1 = algo.random_enc()\n",
    "algo.enc2 = algo.random_enc()"
   ]
  },
  {
   "cell_type": "code",
   "execution_count": 228,
   "metadata": {
    "colab": {
     "base_uri": "https://localhost:8080/"
    },
    "executionInfo": {
     "elapsed": 2,
     "status": "ok",
     "timestamp": 1698410306772,
     "user": {
      "displayName": "Miguel de Llanza",
      "userId": "02333807101257220127"
     },
     "user_tz": -60
    },
    "id": "2Sn5ZjxqMR5N",
    "outputId": "bc8f27d4-6ced-45eb-edd3-882ede2bf6a6"
   },
   "outputs": [
    {
     "name": "stdout",
     "output_type": "stream",
     "text": [
      "Initial random encoding 1: [5 3 2 4 0 1 4 3 5 1 4 1 0 1 5 2 3 2 5 0 1 4 0 2 3 4 4 1 2 4 1 0]\n",
      "Initial random encoding 2: [3 3 4 4 1 5 5 4 0 1 3 5 1 2 3 1 2 5 4 5 4 1 0 3 5 1 3 0 3 4 2 2]\n"
     ]
    }
   ],
   "source": [
    "print(\"Initial random encoding 1:\", algo.enc1)\n",
    "print(\"Initial random encoding 2:\", algo.enc2)"
   ]
  },
  {
   "cell_type": "code",
   "execution_count": 229,
   "metadata": {
    "executionInfo": {
     "elapsed": 209,
     "status": "ok",
     "timestamp": 1698410308021,
     "user": {
      "displayName": "Miguel de Llanza",
      "userId": "02333807101257220127"
     },
     "user_tz": -60
    },
    "id": "H3njFFZ3iFY9"
   },
   "outputs": [],
   "source": [
    "# Use the MNIST zero above as fitness map\n",
    "algo.fitnessmap = dataset[n]"
   ]
  },
  {
   "cell_type": "code",
   "execution_count": 230,
   "metadata": {
    "colab": {
     "base_uri": "https://localhost:8080/"
    },
    "executionInfo": {
     "elapsed": 212,
     "status": "ok",
     "timestamp": 1698410308471,
     "user": {
      "displayName": "Miguel de Llanza",
      "userId": "02333807101257220127"
     },
     "user_tz": -60
    },
    "id": "jWjbQu8viFY9",
    "outputId": "c19c1b48-2f97-41ef-fc8a-6115bdc40b75",
    "scrolled": true
   },
   "outputs": [
    {
     "data": {
      "text/plain": [
       "284.4743352206816"
      ]
     },
     "execution_count": 230,
     "metadata": {},
     "output_type": "execute_result"
    }
   ],
   "source": [
    "# algo.main_loop() is the main function, the cacheing etc is not strictly necessary\n",
    "# The result is the resulting mean squared error\n",
    "algo.main_loop()"
   ]
  },
  {
   "cell_type": "code",
   "execution_count": 231,
   "metadata": {
    "colab": {
     "base_uri": "https://localhost:8080/",
     "height": 447
    },
    "executionInfo": {
     "elapsed": 416,
     "status": "ok",
     "timestamp": 1698410126811,
     "user": {
      "displayName": "Miguel de Llanza",
      "userId": "02333807101257220127"
     },
     "user_tz": -60
    },
    "id": "iBppK70IiFY9",
    "outputId": "c5767a30-5f88-4756-a4fd-dba99b8742ab"
   },
   "outputs": [
    {
     "name": "stdout",
     "output_type": "stream",
     "text": [
      "Optimized encoding: [1 1 1 1 1 4 4 5 5 4 4 4 4 4 3 3 2 2 2 2 2 2 2 2 2 0 0 3 5 5 5 5]\n"
     ]
    },
    {
     "data": {
      "image/png": "[encoded data removed]",
      "text/plain": [
       "<Figure size 640x480 with 1 Axes>"
      ]
     },
     "metadata": {},
     "output_type": "display_data"
    }
   ],
   "source": [
    "print(\"Optimized encoding:\", algo.enc1)\n",
    "plt.hist(algo.enc1)\n",
    "plt.show()"
   ]
  },
  {
   "cell_type": "code",
   "execution_count": 232,
   "metadata": {
    "colab": {
     "base_uri": "https://localhost:8080/"
    },
    "executionInfo": {
     "elapsed": 245,
     "status": "ok",
     "timestamp": 1698410135256,
     "user": {
      "displayName": "Miguel de Llanza",
      "userId": "02333807101257220127"
     },
     "user_tz": -60
    },
    "id": "tRdZpZXTiFY9",
    "outputId": "cf3c2622-5bcb-46c9-9c8c-c9c7d5da91f3"
   },
   "outputs": [
    {
     "data": {
      "text/plain": [
       "array([5, 5, 5, 5, 2, 2, 2, 2, 3, 3, 3, 3, 3, 3, 3, 1, 1, 1, 1, 1, 1, 1,\n",
       "       1, 1, 1, 0, 0, 0, 2, 4, 4, 4])"
      ]
     },
     "execution_count": 232,
     "metadata": {},
     "output_type": "execute_result"
    }
   ],
   "source": [
    "algo.enc2"
   ]
  },
  {
   "cell_type": "code",
   "execution_count": 233,
   "metadata": {
    "colab": {
     "base_uri": "https://localhost:8080/",
     "height": 430
    },
    "executionInfo": {
     "elapsed": 871,
     "status": "ok",
     "timestamp": 1698410139399,
     "user": {
      "displayName": "Miguel de Llanza",
      "userId": "02333807101257220127"
     },
     "user_tz": -60
    },
    "id": "LmnfjZ0piFY9",
    "outputId": "3efb2d7b-5a82-4ff2-c0ea-2657b91a218a"
   },
   "outputs": [
    {
     "data": {
      "image/png": "[encoded data removed]",
      "text/plain": [
       "<Figure size 640x480 with 1 Axes>"
      ]
     },
     "metadata": {},
     "output_type": "display_data"
    }
   ],
   "source": [
    "# The reconstructed fitness map\n",
    "array = algo.represent()"
   ]
  },
  {
   "cell_type": "markdown",
   "metadata": {
    "id": "SLXhY8ABiFY9"
   },
   "source": [
    "# Fitness optimization in one go\n",
    "\n",
    "One other simple thing before I take up the question of synergic content: directly optimizing for fitness.\n",
    "\n",
    "That is to say, now there's one encoder that sees the whole \"global array\""
   ]
  },
  {
   "cell_type": "code",
   "execution_count": 234,
   "metadata": {
    "executionInfo": {
     "elapsed": 4,
     "status": "ok",
     "timestamp": 1698412115053,
     "user": {
      "displayName": "Miguel de Llanza",
      "userId": "02333807101257220127"
     },
     "user_tz": -60
    },
    "id": "N89w4-omiFY9"
   },
   "outputs": [],
   "source": [
    "class Single_Enc(Algorithm):\n",
    "\n",
    "    def random_single_enc(self):\n",
    "        \"\"\"\n",
    "        Return a random encoding strategy that assing one of <signals> many signals\n",
    "        to each of a number <side * side> of positions\n",
    "        \"\"\"\n",
    "        return np.random.randint(self.signals, size=(self.side, self.side))\n",
    "\n",
    "    def mmse_onesignal(self, signal):\n",
    "        \"\"\"\n",
    "        Calculate the mmse estimator for a signal, given a fitnessmap and an encoders\n",
    "        \"\"\"\n",
    "        axis1, axis2 = np.where(self.enc == signal)\n",
    "        try:\n",
    "            return self.fitnessmap[axis1, axis2]\n",
    "        except IndexError:\n",
    "            return np.array([])\n",
    "\n",
    "    def mmse_decoder(self):\n",
    "        \"\"\"\n",
    "        Calculate the mmse decoder for one encoders,\n",
    "        given a fitnessmap and a maximum number of signals\n",
    "        \"\"\"\n",
    "        decoder = np.empty((self.signals))\n",
    "        samples = []\n",
    "        mse = []\n",
    "        for signal in range(self.signals):\n",
    "            values = self.mmse_onesignal(signal)\n",
    "            decoder[signal] = values.mean()\n",
    "            samples.append(values.shape[0])\n",
    "            new_mse = ((values - values.mean()) ** 2).mean()\n",
    "            mse.append(new_mse)\n",
    "        norm_samples = np.array(samples) / np.array(samples).sum()\n",
    "        return decoder, np.array(mse) @ norm_samples\n",
    "\n",
    "    def modify_enc(self, index):\n",
    "        enc_backup = self.enc.copy()\n",
    "        actual_signal = self.enc[index]\n",
    "        loop = [signal for signal in range(self.signals) if signal != actual_signal]\n",
    "        for signal in loop:\n",
    "            self.enc[index] = signal\n",
    "            decoder, mse = self.mmse_decoder()\n",
    "            if mse < self.mse:\n",
    "                self.mse = mse\n",
    "                self.decoder = decoder\n",
    "                return True\n",
    "        self.enc = enc_backup\n",
    "        return False\n",
    "\n",
    "    def modify_full(self):\n",
    "        shuffle_encoder = list(it.product(range(self.side), repeat=2))\n",
    "        shuffle(shuffle_encoder)\n",
    "        for action in shuffle_encoder:\n",
    "            result = self.modify_enc(action)\n",
    "            if result:\n",
    "                return action\n",
    "        return False\n",
    "\n",
    "    def represent(self):\n",
    "        canvass = np.empty((self.side, self.side))\n",
    "        for i, j in it.product(range(self.side), repeat=2):\n",
    "            canvass[i, j] = self.decoder[self.enc[i,j]]\n",
    "        plt.imshow(canvass)\n",
    "        return canvass"
   ]
  },
  {
   "cell_type": "code",
   "execution_count": 235,
   "metadata": {
    "executionInfo": {
     "elapsed": 222,
     "status": "ok",
     "timestamp": 1698412116034,
     "user": {
      "displayName": "Miguel de Llanza",
      "userId": "02333807101257220127"
     },
     "user_tz": -60
    },
    "id": "E3pPB_JKiFY-"
   },
   "outputs": [],
   "source": [
    "# Just two signals, so we'll get a \"black and white\" reconstructed fitness map\n",
    "single = Single_Enc(dataset[n].shape[0], 2)"
   ]
  },
  {
   "cell_type": "code",
   "execution_count": 236,
   "metadata": {
    "colab": {
     "base_uri": "https://localhost:8080/"
    },
    "executionInfo": {
     "elapsed": 279,
     "status": "ok",
     "timestamp": 1698412119019,
     "user": {
      "displayName": "Miguel de Llanza",
      "userId": "02333807101257220127"
     },
     "user_tz": -60
    },
    "id": "H5T3HmkXiFY-",
    "outputId": "72f070a8-07f3-4487-f580-28a06b239dfd"
   },
   "outputs": [],
   "source": [
    "single.enc = single.random_single_enc()"
   ]
  },
  {
   "cell_type": "code",
   "execution_count": 237,
   "metadata": {
    "executionInfo": {
     "elapsed": 217,
     "status": "ok",
     "timestamp": 1698412119234,
     "user": {
      "displayName": "Miguel de Llanza",
      "userId": "02333807101257220127"
     },
     "user_tz": -60
    },
    "id": "Jy5jDjaBiFY-"
   },
   "outputs": [],
   "source": [
    "single.fitnessmap = dataset[n]"
   ]
  },
  {
   "cell_type": "code",
   "execution_count": 238,
   "metadata": {
    "colab": {
     "base_uri": "https://localhost:8080/"
    },
    "executionInfo": {
     "elapsed": 3,
     "status": "ok",
     "timestamp": 1698412119234,
     "user": {
      "displayName": "Miguel de Llanza",
      "userId": "02333807101257220127"
     },
     "user_tz": -60
    },
    "id": "5usOtQUNiFY-",
    "outputId": "f76a104d-8e4c-4e43-d5cc-b263f8a7c2bb"
   },
   "outputs": [
    {
     "data": {
      "text/plain": [
       "444.41354626343497"
      ]
     },
     "execution_count": 238,
     "metadata": {},
     "output_type": "execute_result"
    }
   ],
   "source": [
    "# With just two signals we get much better error than with 6 signals above\n",
    "# (because we can observe everything at the same time)\n",
    "\n",
    "single.main_loop()"
   ]
  },
  {
   "cell_type": "code",
   "execution_count": 239,
   "metadata": {
    "colab": {
     "base_uri": "https://localhost:8080/",
     "height": 430
    },
    "executionInfo": {
     "elapsed": 524,
     "status": "ok",
     "timestamp": 1698277319680,
     "user": {
      "displayName": "Miguel de Llanza",
      "userId": "02333807101257220127"
     },
     "user_tz": -60
    },
    "id": "PC-_8WapiFY-",
    "outputId": "b4ef012a-139e-456f-93dd-7b6a2afd3679"
   },
   "outputs": [
    {
     "data": {
      "image/png": "[encoded data removed]",
      "text/plain": [
       "<Figure size 640x480 with 1 Axes>"
      ]
     },
     "metadata": {},
     "output_type": "display_data"
    }
   ],
   "source": [
    "array = single.represent()"
   ]
  },
  {
   "cell_type": "code",
   "execution_count": 240,
   "metadata": {
    "id": "Qhx9yeHqiFY-"
   },
   "outputs": [],
   "source": [
    "#cat_single.main_loop()"
   ]
  },
  {
   "cell_type": "code",
   "execution_count": 241,
   "metadata": {
    "id": "u0FTzlKyiFY-"
   },
   "outputs": [],
   "source": [
    "#cat_single_arr = cat_single.represent()"
   ]
  },
  {
   "cell_type": "code",
   "execution_count": 242,
   "metadata": {
    "colab": {
     "base_uri": "https://localhost:8080/",
     "height": 35
    },
    "executionInfo": {
     "elapsed": 228,
     "status": "ok",
     "timestamp": 1698277354095,
     "user": {
      "displayName": "Miguel de Llanza",
      "userId": "02333807101257220127"
     },
     "user_tz": -60
    },
    "id": "7m73NE8YiFY-",
    "outputId": "8a1842c9-2494-4369-e880-28faa2d2d556"
   },
   "outputs": [
    {
     "data": {
      "text/plain": [
       "'plt.subplot(1, 2, 1)\\nplt.imshow(groundtruth)\\nplt.subplot(1, 2, 2)\\nplt.imshow(cat_single_arr)\\nplt.savefig(\"cat_onestream.pdf\")'"
      ]
     },
     "execution_count": 242,
     "metadata": {},
     "output_type": "execute_result"
    }
   ],
   "source": [
    "\"\"\"plt.subplot(1, 2, 1)\n",
    "plt.imshow(groundtruth)\n",
    "plt.subplot(1, 2, 2)\n",
    "plt.imshow(cat_single_arr)\n",
    "plt.savefig(\"cat_onestream.pdf\")\"\"\""
   ]
  },
  {
   "cell_type": "markdown",
   "metadata": {
    "id": "hKNASxkpiFY-"
   },
   "source": [
    "# Correlation (or lack thereof) between synergy and information of the signals\n",
    "\n",
    "Now, it is to be expected that, if the signals of enc1 and enc2 are to maximize information about a fitness value, they will carry more information about the values of the x and y axes than about fitness. I'll test this now.\n",
    "\n",
    "The first, easy thing is to calculate the maximum information that one signal alone can carry about fitness, and how much info that signal carries about the axis."
   ]
  },
  {
   "cell_type": "code",
   "execution_count": 293,
   "metadata": {
    "executionInfo": {
     "elapsed": 202,
     "status": "ok",
     "timestamp": 1698412219317,
     "user": {
      "displayName": "Miguel de Llanza",
      "userId": "02333807101257220127"
     },
     "user_tz": -60
    },
    "id": "CiDrnOgsiFY-"
   },
   "outputs": [],
   "source": [
    "class Single_Enc_One_Side(Algorithm):\n",
    "\n",
    "    def random_single_enc(self):\n",
    "        \"\"\"\n",
    "        Return a random encoding strategy that assing one of <signals> many signals\n",
    "        to each of a number <side * side> of positions\n",
    "        \"\"\"\n",
    "        return np.random.randint(self.signals, size=(self.side))\n",
    "\n",
    "    def mmse_onesignal(self, signal):\n",
    "        \"\"\"\n",
    "        Calculate the mmse estimator for a signal, given a fitnessmap and an encoders\n",
    "        \"\"\"\n",
    "        axis = np.where(self.enc == signal)\n",
    "        try:\n",
    "            return self.fitnessmap[axis]\n",
    "        except IndexError:\n",
    "            return np.array([])\n",
    "\n",
    "    def mmse_decoder(self):\n",
    "        \"\"\"\n",
    "        Calculate the mmse decoder for one encoders,\n",
    "        given a fitnessmap and a maximum number of signals\n",
    "        \"\"\"\n",
    "        decoder = np.empty((self.signals))\n",
    "        samples = []\n",
    "        mse = []\n",
    "        for signal in range(self.signals):\n",
    "            values = self.mmse_onesignal(signal)\n",
    "            if len(values) == 0:\n",
    "                continue\n",
    "            decoder[signal] = values.mean()\n",
    "            samples.append(values.shape[0])\n",
    "            new_mse = ((values - values.mean()) ** 2).mean()\n",
    "            mse.append(new_mse)\n",
    "        norm_samples = np.array(samples) / np.array(samples).sum()\n",
    "        return decoder, np.array(mse) @ norm_samples\n",
    "\n",
    "    def modify_enc(self, index):\n",
    "        enc_backup = self.enc.copy()\n",
    "        actual_signal = self.enc[index]\n",
    "        loop = [signal for signal in range(self.signals) if signal != actual_signal]\n",
    "        for signal in loop:\n",
    "            self.enc[index] = signal\n",
    "            decoder, mse = self.mmse_decoder()\n",
    "            if mse < self.mse:\n",
    "                self.mse = mse\n",
    "                self.decoder = decoder\n",
    "                return True\n",
    "        self.enc = enc_backup\n",
    "        return False\n",
    "\n",
    "    def modify_full(self):\n",
    "        shuffle_encoder = list(range(self.side))\n",
    "        shuffle(shuffle_encoder)\n",
    "        for action in shuffle_encoder:\n",
    "            result = self.modify_enc(action)\n",
    "            if result:\n",
    "                return result\n",
    "        return False\n",
    "\n",
    "    def main_loop(self):\n",
    "        self.decoder, self.mse = self.mmse_decoder()\n",
    "        action = True\n",
    "        while action:\n",
    "            action = self.modify_full()\n",
    "        return self.mse\n",
    "\n",
    "    def main(self, enc2, enc1):\n",
    "        self.enc = enc1\n",
    "        self.main_loop()\n",
    "        self.mse1 = self.mse\n",
    "        self.enc1 = self.enc\n",
    "        self.decoder1 = self.decoder\n",
    "        self.mse = 1e6\n",
    "        self.fitnessmap = self.fitnessmap.T\n",
    "        self.enc = enc2\n",
    "        self.main_loop()\n",
    "        self.mse2 = self.mse\n",
    "        self.enc2 = self.enc\n",
    "        self.decoder2 = self.decoder\n",
    "        self.fitnessmap = self.fitnessmap.T\n",
    "        return True\n",
    "\n",
    "    def represent_2(self, showimage=True):\n",
    "        canvass = np.empty((self.side, self.side))\n",
    "        for i, j in it.product(range(self.side), repeat=2):\n",
    "            canvass[j, i] = self.decoder2[self.enc2[i]]\n",
    "        if showimage:\n",
    "            plt.imshow(canvass)\n",
    "        return canvass\n",
    "\n",
    "    def represent_1(self, showimage=True):\n",
    "        canvass = np.empty((self.side, self.side))\n",
    "        for i, j in it.product(range(self.side), repeat=2):\n",
    "            canvass[i, j] = self.decoder1[self.enc1[i]]\n",
    "        if showimage:\n",
    "            plt.imshow(canvass)\n",
    "        return canvass\n",
    "    \n",
    "    def get_decoders(self):\n",
    "        new_enc1 = np.empty(shape=self.enc1.shape)\n",
    "        new_enc2 = np.empty(shape=self.enc2.shape)\n",
    "        for i in range(len(self.decoder1)):\n",
    "            inds1 = self.enc1 == i\n",
    "            inds2 = self.enc2 == i\n",
    "            \n",
    "            new_enc1[inds1] = self.decoder1[i]\n",
    "            new_enc2[inds2] = self.decoder2[i]\n",
    "            \n",
    "        return new_enc1, new_enc2\n",
    "\n",
    "    def get_affordance_encodings(self):\n",
    "        encoding = []\n",
    "        for i,tup1 in enumerate(self.decoder1):\n",
    "            inds = list(it.product([tup1],self.decoder2))\n",
    "            for j,ind in enumerate(inds):\n",
    "                encod = self.fitnessmap[i][j]\n",
    "                encoding.append((str(ind[0]), str(ind[1]), str(encod)))\n",
    "       \n",
    "        return encoding\n",
    "    \n",
    "    def get_sensory_encodings(self):  \n",
    "        encoding = [(str(x), str(self.decoder2[i]), str(y))\n",
    "                    for i,(x,y) in enumerate(list(zip(self.decoder1, self.fitnessmap)))]\n",
    "        return encoding\n",
    "    \n",
    "    def get_pid_measures(self, n, encoding, show=True):\n",
    "        pid_myopic = dit.Distribution(encoding, [1/len(encoding)]*len(encoding))\n",
    "        pid_myopic.set_rv_names(list(range(n)))\n",
    "        \n",
    "        pid_measure = PID_BROJA(pid_myopic)\n",
    "        \n",
    "        pid_names = [\"{0}\", \"{1}\", \"{0}{1}\", \"{0:1}\"]\n",
    "        pid_dict = {}\n",
    "        for i,k in enumerate(pid_measure._pis.keys()):\n",
    "            value = pid_measure.get_pi(k)\n",
    "            pid_dict[pid_names[i]] = value\n",
    "        \n",
    "        if show:\n",
    "            print(\"PID BROJA:\\n\", pid_measure)\n",
    "        \n",
    "        return pid_dict\n",
    "    \n",
    "        \n",
    "    def get_mutual_info(self):\n",
    "        encoding_1 = [(str(x), str(y)) for (x,y) in list(zip(self.decoder1, self.fitnessmap))]\n",
    "        encoding_2 = [(str(x), str(y)) for (x,y) in list(zip(self.decoder2, self.fitnessmap))]\n",
    "        \n",
    "        dist_enc_1 = dit.Distribution(encoding_1, [1/len(encoding_1)]*len(encoding_1))\n",
    "        dist_enc_2 = dit.Distribution(encoding_2, [1/len(encoding_2)]*len(encoding_2))\n",
    "        \n",
    "        mutual_1 = dit.shannon.mutual_information(dist_enc_1, [0], [1])\n",
    "        mutual_2 = dit.shannon.mutual_information(dist_enc_2, [0], [1])\n",
    "        \n",
    "        return mutual_1, mutual_2, dist_enc_1, encoding_1\n",
    "    \n",
    "    def get_entropy(self, distribution):\n",
    "\n",
    "        # Calculate the frequency distribution\n",
    "        unique_values, counts = np.unique(distribution.flatten(), return_counts=True)\n",
    "        \n",
    "        #distribution_dict = dict(zip(map(str, unique_values), counts/len(self.fitnessmap.flatten())))\n",
    "        distribution_dict = dict(zip(map(lambda x: (str(x),), unique_values), counts/len(distribution.flatten())))\n",
    "                \n",
    "        entropy_fitness = dit.Distribution(distribution_dict)\n",
    "        \n",
    "        return dit.shannon.entropy(entropy_fitness)\n",
    "    \n",
    "def merge_dicts(dicts):\n",
    "    merged_dict = {}\n",
    "    for key in dicts[0].keys():\n",
    "        merged_dict[key] = [d[key] for d in dicts]\n",
    "\n",
    "    return merged_dict"
   ]
  },
  {
   "cell_type": "code",
   "execution_count": 254,
   "metadata": {},
   "outputs": [],
   "source": [
    "def distribution_signals(dist_inp, total_range):\n",
    "    dist = {n:0. for n in total_range}\n",
    "    for x in dist_inp:\n",
    "        dist[x] = dist.get(x,0) + 1\n",
    "        \n",
    "    for k,v in dist.items():\n",
    "        dist[k] = v/dist_inp.shape[0]\n",
    "    \n",
    "    return dist"
   ]
  },
  {
   "cell_type": "code",
   "execution_count": 255,
   "metadata": {},
   "outputs": [],
   "source": [
    "def plot_dist_signals(dists):\n",
    "    plt.style.use('seaborn')\n",
    "    fig, axs = plt.subplots(2, 2)\n",
    "    fig.tight_layout()\n",
    "    fig.subplots_adjust(hspace=0.3, wspace=0.3)\n",
    "    \n",
    "    inds = list(itertools.product([0,1], [0,1]))\n",
    "    \n",
    "    for i,(n,d) in enumerate(dists.items()):\n",
    "        axs[inds[i]].bar(x=list(d.keys()), height=list(d.values()))\n",
    "        axs[inds[i]].set_title(n)\n",
    "        axs[inds[i]].set_yticks(np.arange(0, 0.71, 0.1))\n",
    "        \n",
    "    plt.show()"
   ]
  },
  {
   "cell_type": "code",
   "execution_count": 256,
   "metadata": {},
   "outputs": [],
   "source": [
    "def quantize_fitnessmaps(fm, n_colors):\n",
    "\n",
    "    arr = fm.reshape((-1, 1))\n",
    "    kmeans = KMeans(n_clusters=n_colors, random_state=1).fit(arr)\n",
    "    labels = kmeans.labels_\n",
    "    centers = kmeans.cluster_centers_\n",
    "    less_colors = centers[labels].reshape(fm.shape).astype('uint8')\n",
    "\n",
    "    return less_colors"
   ]
  },
  {
   "cell_type": "code",
   "execution_count": 247,
   "metadata": {},
   "outputs": [],
   "source": [
    "def plot_results(ax, df, columns, name_value, title):\n",
    "    plt.style.use('seaborn')\n",
    "    # Calculate mean and standard deviation for each signal and MSE column\n",
    "    means = df.groupby('Signal').mean()\n",
    "    stds = df.groupby('Signal').std()\n",
    "\n",
    "    # Reshape the DataFrame for Seaborn\n",
    "    df_seaborn = pd.melt(df[[\"Signal\"] + columns], id_vars='Signal', var_name=name_value, value_name='Value')\n",
    "\n",
    "    # Plotting using Seaborn\n",
    "    #plt.figure(figsize=(10, 6))\n",
    "    sns.lineplot(x='Signal', y='Value', hue=name_value, data=df_seaborn, ci='sd', marker='o', ax=ax)\n",
    "\n",
    "    # Set labels and title\n",
    "    ax.set_xlabel('Signal', fontsize=18)\n",
    "    ax.set_ylabel(name_value, fontsize=18)\n",
    "    \n",
    "    ax.tick_params(axis='x', labelsize=16)\n",
    "    ax.tick_params(axis='y', labelsize=16)\n",
    "    ax.set_title(title, fontsize=20)\n",
    "\n",
    "    ax.legend(bbox_to_anchor=(0.9, 1), loc='upper left', fontsize=16)"
   ]
  },
  {
   "cell_type": "code",
   "execution_count": 292,
   "metadata": {},
   "outputs": [],
   "source": [
    "def get_spatial_entropy(dist, num_signals):\n",
    "    \"\"\"\n",
    "    Spatial entropy measure by: Claramunt, C. (2005). A spatial form of diversity\n",
    "    The OFF data is not used for the final computation since we are only interested in the distribution of\n",
    "    ON signals. Adding the OFF terms biases the spatial entropy in an undesired way.\n",
    "    \"\"\"\n",
    "    \n",
    "    total_categories = len(dist.keys())\n",
    "    category = []\n",
    "    prob_ON = []\n",
    "    prob_OFF = []\n",
    "    \n",
    "    for k,v in dist.items():\n",
    "        if v != 0:\n",
    "            category.append(\"ON\")\n",
    "            prob_ON.append(v)\n",
    "        else:\n",
    "            prob_OFF.append(1/total_categories)\n",
    "            category.append(\"OFF\")\n",
    "    \n",
    "    prob_ON = np.array(prob_ON)\n",
    "    prob_OFF = np.array(prob_OFF)\n",
    "    \n",
    "    df = pd.DataFrame({\n",
    "        'x': list(dist.keys()),\n",
    "        'class': category\n",
    "    })\n",
    "    \n",
    "\n",
    "    # Extract intra and extra distances from a Euclidean distance matrix\n",
    "    dist_matrix = pd.DataFrame(np.linalg.norm(df[['x', 'x']].values - df[['x', 'x']].values[:, None], axis=-1))\n",
    "\n",
    "    # Intra-distance for each class\n",
    "    intra = [dist_matrix.loc[df['class'] == let, df['class'] == let].values for let in ['ON', 'OFF']]\n",
    "    \n",
    "    # Extra-distance for each class\n",
    "    extra = [dist_matrix.loc[df['class'] == let, df['class'] != let].values for let in ['ON', 'OFF']]\n",
    "\n",
    "    # Average Intra-distance for each class\n",
    "    intra_green = np.mean(intra[0][intra[0] != 0])\n",
    "    intra_white = np.mean(intra[1][intra[1] != 0])\n",
    "\n",
    "    # Average Extra-distance for each class\n",
    "    extra_green = np.mean(extra[0][extra[0] != 0])\n",
    "    extra_white = np.mean(extra[1][extra[1] != 0])\n",
    "\n",
    "    # Average Extra-distance for ON and OFF classes\n",
    "    extra_ON = np.mean(extra[0][extra[0] != 0])\n",
    "    extra_OFF = np.mean(extra[1][extra[1] != 0])\n",
    "\n",
    "    # Average Intra-distance for ON class\n",
    "    intra_ON = np.mean(intra[0][intra[0] != 0])\n",
    "\n",
    "    # Average Intra-distance for OFF\n",
    "    intra_OFF = np.mean(intra[1][intra[1] != 0])\n",
    "\n",
    "    # Entropy for each class\n",
    "    entropy_ON = prob_ON * np.log2(1/prob_ON)\n",
    "    entropy_OFF = prob_OFF * np.log2(1/prob_OFF)\n",
    "\n",
    "    # Claramunt's entropy ratios (intra/extra)\n",
    "    ON_CL = intra_ON / extra_ON\n",
    "    OFF_CL = intra_OFF / extra_OFF\n",
    "    \n",
    "    # Claramunt's spatial entropy\n",
    "    spatial_entropy = np.sum(entropy_ON * ON_CL)\n",
    "    \n",
    "    return spatial_entropy"
   ]
  },
  {
   "cell_type": "code",
   "execution_count": 249,
   "metadata": {},
   "outputs": [],
   "source": [
    "def get_results(fitnessmaps, total_signals, rgb, n=3,\n",
    "                show_fit=False, showimage=False, show_pid=False,\n",
    "                verbose=False, plot_dists=False):\n",
    "    \n",
    "    ts = len(total_signals)\n",
    "    repeats = len(fitnessmaps)*len(total_signals)\n",
    "    \n",
    "    signals = []\n",
    "    mse1_avg = []\n",
    "    mse2_avg = []\n",
    "    msi1_avg = []\n",
    "    msi2_avg = []\n",
    "    ment1_avg = []\n",
    "    ment2_avg = []\n",
    "    mre_avg = []\n",
    "    msyn_avg = []\n",
    "    \n",
    "    gse1_avg = []\n",
    "    gse2_avg = []\n",
    "    gsi1_avg = []\n",
    "    gsi2_avg = []\n",
    "    gent1_avg = []\n",
    "    gent2_avg = []\n",
    "    gre_avg = []\n",
    "    gsyn_avg = []\n",
    "    \n",
    "    if rgb:\n",
    "        fitnessmaps = [quantize_fitnessmaps(fm, n) for fm in fitnessmaps] \n",
    "    \n",
    "    for s,num_signals in enumerate(total_signals):\n",
    "        \n",
    "        print(\"\\nSignal\", num_signals)\n",
    "        \n",
    "        for r, fitnessmap in tqdm(enumerate(fitnessmaps)):\n",
    "\n",
    "            oneside = Single_Enc_One_Side(fitnessmap.shape[0], num_signals)\n",
    "            oneside.fitnessmap = fitnessmap\n",
    "            oneside.main(oneside.random_single_enc(), oneside.random_single_enc())\n",
    "            \n",
    "            if verbose and s == 0:\n",
    "                print(f\"Entropy of fitnessmap: {oneside.get_entropy(): .2f}\")\n",
    "                pass\n",
    "\n",
    "            if show_fit and s == 0:\n",
    "                plt.style.use('default')\n",
    "                plt.title(\"Fitness Map\")\n",
    "                io.imshow(fitnessmap)\n",
    "                plt.show()\n",
    "\n",
    "            ##########\n",
    "            # MYOPIC #\n",
    "            ##########\n",
    "            # Get sensory information and MSE for the MYOPIC encoders                \n",
    "            oneside.fitnessmap = np.arange(oneside.side)\n",
    "                        \n",
    "            oneside.enc = oneside.enc1\n",
    "            #myopic1 = oneside.enc\n",
    "            decoder_myopic_1, mse_myopic_sensory_1 = oneside.mmse_decoder()\n",
    "            \n",
    "            oneside.enc = oneside.enc2\n",
    "            #myopic2 = oneside.enc\n",
    "            decoder_myopic_2, mse_myopic_sensory_2 = oneside.mmse_decoder()\n",
    "            \n",
    "            decoder_myopic_1 = np.round(decoder_myopic_1)\n",
    "            decoder_myopic_2 = np.round(decoder_myopic_2)\n",
    "            \n",
    "            oneside.decoder1 = decoder_myopic_1\n",
    "            oneside.decoder2 = decoder_myopic_2\n",
    "            dec_myopic_1, dec_myopic_2 = oneside.get_decoders()\n",
    "            \n",
    "            oneside.decoder1 = dec_myopic_1\n",
    "            oneside.decoder2 = dec_myopic_2\n",
    "            \n",
    "            # PID encoders\n",
    "            myopic_sensory_encoding = oneside.get_sensory_encodings()\n",
    "            pid_sensory_myopic = oneside.get_pid_measures(3, myopic_sensory_encoding, show=show_pid)\n",
    "            pid_sensory_myopic['{0}'] = oneside.get_mutual_info()[0]\n",
    "            pid_sensory_myopic['{1}'] = oneside.get_mutual_info()[1]\n",
    "\n",
    "            # Get affordance information and MSE for the MYOPIC encoders\n",
    "            algo = Algorithm(fitnessmap.shape[0], num_signals)\n",
    "            algo.fitnessmap = fitnessmap\n",
    "            algo.enc1 = oneside.enc1\n",
    "            algo.enc2 = oneside.enc2\n",
    "            algo.decoder, algo.mse = algo.mmse_decoder()\n",
    "            recons_error_myopic = round(algo.mse, 3)\n",
    "            repmyopic = algo.represent(showimage=showimage)\n",
    "            \n",
    "            # PID synergy\n",
    "            oneside.fitnessmap = fitnessmap\n",
    "            myopic_affordance_encoding = oneside.get_affordance_encodings()\n",
    "            pid_affordance_myopic = oneside.get_pid_measures(3, myopic_affordance_encoding, show=show_pid)\n",
    "\n",
    "            if verbose:\n",
    "                print(f\"MSE encoder 1 - basic property 1: {mse_myopic_sensory_1: .2f}\")\n",
    "                print(f\"MSE encoder 2 - basic property 2: {mse_myopic_sensory_2: .2f}\")\n",
    "                print(f\"MI encoder 1 - basic property 1: {pid_sensory_myopic['{0}']: .2f}\")\n",
    "                print(f\"MI encoder 2 - basic property 2: {pid_sensory_myopic['{1}']: .2f}\")\n",
    "                print(f\"MYOPIC. Affordance reconstruction error: {recons_error_myopic: .2f}\")\n",
    "\n",
    "\n",
    "            ##########\n",
    "            # 'GOOD' #\n",
    "            ##########            \n",
    "            algo.enc1 = oneside.random_enc()\n",
    "            algo.enc2 = oneside.random_enc()\n",
    "            recons_error_good = algo.main_loop()\n",
    "\n",
    "            oneside.fitnessmap = np.arange(oneside.side)\n",
    "            # get mse for each encoder its basic property\n",
    "            oneside.enc = algo.enc1\n",
    "            decoder_synergy_1, mse_synergy_sensory_1 = oneside.mmse_decoder()\n",
    "            oneside.enc = algo.enc2\n",
    "            decoder_synergy_2, mse_synergy_sensory_2 = oneside.mmse_decoder()\n",
    "\n",
    "            oneside.enc1 = algo.enc1\n",
    "            oneside.enc2 = algo.enc2\n",
    "            \n",
    "            decoder_synergy_1 = np.round(decoder_synergy_1)\n",
    "            decoder_synergy_2 = np.round(decoder_synergy_2)\n",
    "            \n",
    "            oneside.decoder1 = decoder_synergy_1\n",
    "            oneside.decoder2 = decoder_synergy_2\n",
    "            dec_synergy_1, dec_synergy_2 = oneside.get_decoders()\n",
    "\n",
    "            oneside.decoder1 = dec_synergy_1\n",
    "            oneside.decoder2 = dec_synergy_2\n",
    "                        \n",
    "            synergy_sensory_encoding = oneside.get_sensory_encodings()\n",
    "            pid_sensory_synergy = oneside.get_pid_measures(3, synergy_sensory_encoding, show=show_pid)\n",
    "            pid_sensory_synergy['{0}'] = oneside.get_mutual_info()[0]\n",
    "            pid_sensory_synergy['{1}'] = oneside.get_mutual_info()[1]\n",
    "\n",
    "            oneside.fitnessmap = fitnessmap\n",
    "            syenergy_affordance_encoding = oneside.get_affordance_encodings()\n",
    "            pid_affordance_synergy = oneside.get_pid_measures(3, syenergy_affordance_encoding, show=show_pid)\n",
    "    \n",
    "\n",
    "            if verbose:\n",
    "                print(f\"\\nMSE encoder 1 - basic property 1: {mse_synergy_sensory_1: .2f}\")\n",
    "                print(f\"MSE encoder 2 - basic property 2: {mse_synergy_sensory_2: .2f}\")\n",
    "                print(f\"MI encoder 1 - basic property 1: {pid_sensory_synergy['{0}']: .2f}\")\n",
    "                print(f\"MI encoder 2 - basic property 2: {pid_sensory_synergy['{1}']: .2f}\")\n",
    "                print(f\"GOOD. Affordance reconstruction error: {recons_error_good: .2f}\")\n",
    "            \n",
    "            \n",
    "            total_range = np.arange(oneside.side)\n",
    "            dist_myopic_1 = distribution_signals(dec_myopic_1, total_range)\n",
    "            dist_myopic_2 = distribution_signals(dec_myopic_2, total_range)\n",
    "\n",
    "            dist_synergy_1 = distribution_signals(dec_synergy_1, total_range)\n",
    "            dist_synergy_2 = distribution_signals(dec_synergy_2, total_range)\n",
    "\n",
    "            spatial_entropy_myopic_1 = get_spatial_entropy(dist_myopic_1, num_signals)\n",
    "            spatial_entropy_myopic_2 = get_spatial_entropy(dist_myopic_2, num_signals)\n",
    "            spatial_entropy_synergy_1 = get_spatial_entropy(dist_synergy_1, num_signals)\n",
    "            spatial_entropy_synergy_2 = get_spatial_entropy(dist_synergy_2, num_signals)\n",
    "                \n",
    "            if plot_dists:\n",
    "                print(spatial_entropy_myopic_1)\n",
    "                print(spatial_entropy_myopic_2)\n",
    "                print(spatial_entropy_synergy_1)\n",
    "                print(spatial_entropy_synergy_2)\n",
    "\n",
    "                plot_dist_signals({\"Encoder_myopic_1\": dist_myopic_1,\n",
    "                                   \"Encoder_myopic_2\": dist_myopic_2,\n",
    "                                   \"Encoder_synergy_1\": dist_synergy_1,\n",
    "                                   \"Encoder_synergy_2\": dist_synergy_2})\n",
    "            \n",
    "            \n",
    "            signals.append(num_signals)\n",
    "            mse1_avg.append(mse_myopic_sensory_1)\n",
    "            mse2_avg.append(mse_myopic_sensory_2)\n",
    "            msi1_avg.append(pid_sensory_myopic['{0}'])\n",
    "            msi2_avg.append(pid_sensory_myopic['{1}'])\n",
    "            ment1_avg.append(spatial_entropy_myopic_1)\n",
    "            ment2_avg.append(spatial_entropy_myopic_2)\n",
    "            mre_avg.append(recons_error_myopic)\n",
    "            msyn_avg.append(pid_affordance_myopic['{0:1}'])\n",
    "\n",
    "            gse1_avg.append(mse_synergy_sensory_1)\n",
    "            gse2_avg.append(mse_synergy_sensory_2)\n",
    "            gsi1_avg.append(pid_sensory_synergy['{0}'])\n",
    "            gsi2_avg.append(pid_sensory_synergy['{1}'])\n",
    "            gent1_avg.append(spatial_entropy_synergy_1)\n",
    "            gent2_avg.append(spatial_entropy_synergy_2)\n",
    "            gre_avg.append(recons_error_good)\n",
    "            gsyn_avg.append(pid_affordance_synergy['{0:1}'])\n",
    "            \n",
    "    df = pd.DataFrame({\n",
    "                        \"Signal\": signals,\n",
    "                        # MSE sensory signals\n",
    "                        \"MSE_sensory_myopic_1\": mse1_avg,\n",
    "                        \"MSE_sensory_myopic_2\": mse2_avg,\n",
    "                        \"MSE_sensory_synergy_1\": gse1_avg,\n",
    "                        \"MSE_sensory_synergy_2\": gse2_avg,\n",
    "                        # MI sensory signals\n",
    "                        \"MI_sensory_myopic_1\": msi1_avg,\n",
    "                        \"MI_sensory_myopic_2\": msi2_avg,\n",
    "                        \"MI_sensory_synergy_1\": gsi1_avg,\n",
    "                        \"MI_sensory_synergy_2\": gsi2_avg,\n",
    "                        # Spatial Entropy sensory signals\n",
    "                        \"SENT_sensory_myopic_1\": ment1_avg,\n",
    "                        \"SENT_sensory_myopic_2\": ment2_avg,\n",
    "                        \"SENT_sensory_synergy_1\": gent1_avg,\n",
    "                        \"SENT_sensory_synergy_2\": gent2_avg,\n",
    "                        # MSE affordance\n",
    "                        \"MSE_affordance_myopic\": mre_avg,\n",
    "                        \"MSE_affordance_synergy\": gre_avg,\n",
    "                        # Synergy affordance\n",
    "                        \"Synergy_affordance_myopic\": msyn_avg,\n",
    "                        \"Synergy_affordance_synergy\": gsyn_avg,\n",
    "        \n",
    "                    })\n",
    "        \n",
    "    return df"
   ]
  },
  {
   "cell_type": "markdown",
   "metadata": {},
   "source": [
    "## Experiment using a set of random fitnessmaps to evaluate the myopic and synergistic encoder using different signals\n",
    "### The PID computation for signals > 6 will take quite a bit of time for CIFAR images"
   ]
  },
  {
   "cell_type": "markdown",
   "metadata": {},
   "source": [
    "I'm taking the distribution of signals after the decoder's mapping. Why? To account for the information shared between encoder and decoder. For instance, if signal 0 -> 1.5 and signal 1 -> 1.5, then the decoder's entropy will be zero, while the encoder's entropy will be 1 bit."
   ]
  },
  {
   "cell_type": "code",
   "execution_count": 250,
   "metadata": {
    "scrolled": false
   },
   "outputs": [
    {
     "name": "stdout",
     "output_type": "stream",
     "text": [
      "[ 898 4922 1504 3003 2067  867  163 3483 3865 2738]\n",
      "\n",
      "Signal 2\n"
     ]
    },
    {
     "name": "stderr",
     "output_type": "stream",
     "text": [
      "10it [00:05,  1.71it/s]\n"
     ]
    },
    {
     "name": "stdout",
     "output_type": "stream",
     "text": [
      "\n",
      "Signal 4\n"
     ]
    },
    {
     "name": "stderr",
     "output_type": "stream",
     "text": [
      "10it [00:33,  3.34s/it]\n"
     ]
    },
    {
     "name": "stdout",
     "output_type": "stream",
     "text": [
      "\n",
      "Signal 6\n"
     ]
    },
    {
     "name": "stderr",
     "output_type": "stream",
     "text": [
      "10it [01:58, 11.88s/it]\n"
     ]
    }
   ],
   "source": [
    "signals = [2, 4, 6]\n",
    "ind_images = np.random.choice(list(range(len(dataset))), size=(10))\n",
    "print(ind_images)\n",
    "fitness_maps = dataset[ind_images]\n",
    "\n",
    "\"\"\"rgb: if the image is rgb, we quantize it to reduce the number of possible pixel values\n",
    "        to make the PID computaion tractable. Method: K-means\n",
    "   n: number of different clusters (i.e., pixel values) of K-means\n",
    "   show_fit: plot fitnessmap\n",
    "   verbose: show data\n",
    "   show_pid: plot PID\n",
    "   plot_dists: plot distribution of signals per encoder\n",
    "\"\"\"\n",
    "\n",
    "df = get_results(fitness_maps, signals, rgb=rgb, n=3,\n",
    "                               show_fit=False, verbose=False,\n",
    "                               show_pid=False, plot_dists=False)"
   ]
  },
  {
   "cell_type": "markdown",
   "metadata": {},
   "source": [
    "## Legend\n",
    "**MSE_sensor**: MSE between each encoder (myopic and synergsitic) and its sensory modality\\\n",
    "**MI_sensory**: Mutual Information between each encoder (myopic and synergsitic) and its sensory modality\\\n",
    "**SENT_senso**: Spatial Entropy between each encoder (myopic and synergsitic) and its sensory modality\\\n",
    "**MSE_afford**: MSE of affordance for pairs of myopic and synergsitic encoders-decoders\\\n",
    "**Synergy_af**: Syenrgsitic information between the encoders and the affordance vlaue"
   ]
  },
  {
   "cell_type": "code",
   "execution_count": 252,
   "metadata": {
    "scrolled": false
   },
   "outputs": [
    {
     "name": "stdout",
     "output_type": "stream",
     "text": [
      "[(0, 0), (0, 1), (1, 0), (1, 1), (2, 0), (2, 1)]\n"
     ]
    },
    {
     "data": {
      "image/png": "[encoded data removed]",
      "text/plain": [
       "<Figure size 2500x1500 with 6 Axes>"
      ]
     },
     "metadata": {},
     "output_type": "display_data"
    }
   ],
   "source": [
    "columns = df.columns\n",
    "\n",
    "fig, ax = plt.subplots(3, 2, figsize=(25, 15))\n",
    "inds = list(itertools.product([0,1,2], [0,1]))\n",
    "#fig.tight_layout()\n",
    "fig.subplots_adjust(hspace=0.3, wspace=0.4)\n",
    "print(inds)\n",
    "inds_data = [1, 5, 9, 13, 15, len(columns)]\n",
    "\n",
    "for i in range(5):\n",
    "    \n",
    "    cols = list(columns[inds_data[i]:inds_data[i+1]])\n",
    "    plot_results(ax[inds[i]], df, cols,\n",
    "                 cols[0][:3], title=cols[0][:10])\n",
    "\n",
    "\n",
    "plt.show()"
   ]
  },
  {
   "cell_type": "markdown",
   "metadata": {
    "id": "bZ3eS4iGiFY_"
   },
   "source": [
    "## Let's do a fully worked-out example, for the paper"
   ]
  },
  {
   "cell_type": "code",
   "execution_count": 304,
   "metadata": {},
   "outputs": [
    {
     "data": {
      "text/plain": [
       "True"
      ]
     },
     "execution_count": 304,
     "metadata": {},
     "output_type": "execute_result"
    }
   ],
   "source": [
    "fitnessmap = dataset[0]\n",
    "num_s = 4\n",
    "oneside = Single_Enc_One_Side(fitnessmap.shape[0], num_s)\n",
    "oneside.fitnessmap = fitnessmap\n",
    "oneside.main(oneside.random_single_enc(), oneside.random_single_enc())"
   ]
  },
  {
   "cell_type": "markdown",
   "metadata": {
    "id": "tZs9eYeZiFZA"
   },
   "source": [
    "## Now, with these encoders, optimized to the myopic view of fitness each of the sensory modalities has, how much information about the sensory modality itself do we get?"
   ]
  },
  {
   "cell_type": "code",
   "execution_count": 305,
   "metadata": {
    "executionInfo": {
     "elapsed": 1,
     "status": "ok",
     "timestamp": 1698412267372,
     "user": {
      "displayName": "Miguel de Llanza",
      "userId": "02333807101257220127"
     },
     "user_tz": -60
    },
    "id": "FJ-b0B4yiFZA"
   },
   "outputs": [],
   "source": [
    "# set fitness map to the basic properties instead of the affordance value\n",
    "oneside.fitnessmap = np.arange(oneside.side)"
   ]
  },
  {
   "cell_type": "code",
   "execution_count": 306,
   "metadata": {},
   "outputs": [
    {
     "data": {
      "text/plain": [
       "7.973571210343888"
      ]
     },
     "execution_count": 306,
     "metadata": {},
     "output_type": "execute_result"
    }
   ],
   "source": [
    "oneside.get_entropy(fitnessmap)"
   ]
  },
  {
   "cell_type": "code",
   "execution_count": 307,
   "metadata": {
    "colab": {
     "base_uri": "https://localhost:8080/"
    },
    "executionInfo": {
     "elapsed": 3,
     "status": "ok",
     "timestamp": 1698412267613,
     "user": {
      "displayName": "Miguel de Llanza",
      "userId": "02333807101257220127"
     },
     "user_tz": -60
    },
    "id": "_sjQDYddiFZA",
    "outputId": "1567b821-df24-44b2-9bf9-3e21c94f6c1b"
   },
   "outputs": [
    {
     "name": "stdout",
     "output_type": "stream",
     "text": [
      "[ 0  1  2  3  4  5  6  7  8  9 10 11 12 13 14 15 16 17 18 19 20 21 22 23\n",
      " 24 25 26 27 28 29 30 31]\n",
      "[2 2 2 2 2 2 2 2 2 3 0 1 1 1 1 1 1 1 1 1 1 1 1 1 1 1 1 1 0 3 3 3]\n",
      "MSE encoder 1 - basic property 1: 30.0859375\n",
      "\n",
      "MSE encoder 2 - basic property 2: 61.68526785714286\n"
     ]
    }
   ],
   "source": [
    "# get mse for each encoder its basic property\n",
    "oneside.enc = oneside.enc1\n",
    "print(oneside.fitnessmap)\n",
    "print(oneside.enc)\n",
    "myopic1 = oneside.enc\n",
    "dec1, mse_myopic_sensory1 = oneside.mmse_decoder()\n",
    "print(\"MSE encoder 1 - basic property 1:\", mse_myopic_sensory1)\n",
    "\n",
    "print(\"\")\n",
    "oneside.enc = oneside.enc2\n",
    "myopic2 = oneside.enc\n",
    "dec2, mse_myopic_sensory2 = oneside.mmse_decoder()\n",
    "print(\"MSE encoder 2 - basic property 2:\", mse_myopic_sensory2)\n",
    "\n",
    "new_dec1, new_dec2 = oneside.get_decoders()"
   ]
  },
  {
   "cell_type": "code",
   "execution_count": 308,
   "metadata": {},
   "outputs": [
    {
     "data": {
      "text/plain": [
       "array([129.33449074, 129.33449074, 129.33449074, 129.33449074,\n",
       "       129.33449074, 129.33449074, 129.33449074, 129.33449074,\n",
       "       129.33449074,  87.4921875 ,  55.76041667,  37.08578431,\n",
       "        37.08578431,  37.08578431,  37.08578431,  37.08578431,\n",
       "        37.08578431,  37.08578431,  37.08578431,  37.08578431,\n",
       "        37.08578431,  37.08578431,  37.08578431,  37.08578431,\n",
       "        37.08578431,  37.08578431,  37.08578431,  37.08578431,\n",
       "        55.76041667,  87.4921875 ,  87.4921875 ,  87.4921875 ])"
      ]
     },
     "execution_count": 308,
     "metadata": {},
     "output_type": "execute_result"
    }
   ],
   "source": [
    "new_dec1"
   ]
  },
  {
   "cell_type": "markdown",
   "metadata": {
    "id": "AszTC6DJiFZA"
   },
   "source": [
    "## And how much info about fitness can the decoder get from the two myopic encoders?"
   ]
  },
  {
   "cell_type": "code",
   "execution_count": 309,
   "metadata": {
    "executionInfo": {
     "elapsed": 2,
     "status": "ok",
     "timestamp": 1698412267902,
     "user": {
      "displayName": "Miguel de Llanza",
      "userId": "02333807101257220127"
     },
     "user_tz": -60
    },
    "id": "XaU3Fch2iFZA"
   },
   "outputs": [],
   "source": [
    "algo = Algorithm(fitnessmap.shape[0], num_s)\n",
    "algo.fitnessmap = fitnessmap"
   ]
  },
  {
   "cell_type": "code",
   "execution_count": 310,
   "metadata": {
    "executionInfo": {
     "elapsed": 1,
     "status": "ok",
     "timestamp": 1698412267902,
     "user": {
      "displayName": "Miguel de Llanza",
      "userId": "02333807101257220127"
     },
     "user_tz": -60
    },
    "id": "fwz7CtCxiFZA"
   },
   "outputs": [],
   "source": [
    "algo.enc1 = oneside.enc1\n",
    "algo.enc2 = oneside.enc2"
   ]
  },
  {
   "cell_type": "code",
   "execution_count": 311,
   "metadata": {
    "colab": {
     "base_uri": "https://localhost:8080/"
    },
    "executionInfo": {
     "elapsed": 2,
     "status": "ok",
     "timestamp": 1698412268195,
     "user": {
      "displayName": "Miguel de Llanza",
      "userId": "02333807101257220127"
     },
     "user_tz": -60
    },
    "id": "gDLsKOjGiFZA",
    "outputId": "12989914-b041-42ba-dd8e-ac2c2db5519a"
   },
   "outputs": [],
   "source": [
    "algo.decoder, algo.mse = algo.mmse_decoder()"
   ]
  },
  {
   "cell_type": "code",
   "execution_count": 312,
   "metadata": {},
   "outputs": [
    {
     "name": "stdout",
     "output_type": "stream",
     "text": [
      "Affordance reconstruction error: 1491.253\n"
     ]
    }
   ],
   "source": [
    "recons_error_myopic = round(algo.mse, 3)\n",
    "print(\"Affordance reconstruction error:\", recons_error_myopic)"
   ]
  },
  {
   "cell_type": "code",
   "execution_count": 313,
   "metadata": {
    "colab": {
     "base_uri": "https://localhost:8080/",
     "height": 430
    },
    "executionInfo": {
     "elapsed": 452,
     "status": "ok",
     "timestamp": 1698412268843,
     "user": {
      "displayName": "Miguel de Llanza",
      "userId": "02333807101257220127"
     },
     "user_tz": -60
    },
    "id": "YAKj3rpJiFZA",
    "outputId": "1b41d831-2f8e-4b4a-da52-75b287837119"
   },
   "outputs": [],
   "source": [
    "repmyopic = algo.represent(showimage=False)"
   ]
  },
  {
   "cell_type": "markdown",
   "metadata": {},
   "source": [
    "PID for sensory information"
   ]
  },
  {
   "cell_type": "code",
   "execution_count": 314,
   "metadata": {},
   "outputs": [
    {
     "name": "stdout",
     "output_type": "stream",
     "text": [
      "PID BROJA:\n",
      " +---------+--------+--------+\n",
      "| I_broja |  I_r   |   pi   |\n",
      "+---------+--------+--------+\n",
      "|  {0:1}  | 2.0000 | 0.0000 |\n",
      "|   {0}   | 2.0000 | 0.0000 |\n",
      "|   {1}   | 2.0000 | 0.0000 |\n",
      "|  {0}{1} | 2.0000 | 2.0000 |\n",
      "+---------+--------+--------+\n"
     ]
    }
   ],
   "source": [
    "oneside.fitnessmap = np.arange(oneside.side)\n",
    "sensory_encoding = oneside.get_sensory_encodings()\n",
    "pid_sensory_myopic = oneside.get_pid_measures(3, sensory_encoding)"
   ]
  },
  {
   "cell_type": "code",
   "execution_count": 315,
   "metadata": {},
   "outputs": [
    {
     "name": "stdout",
     "output_type": "stream",
     "text": [
      "Mutual information between each encoder and its basic property:  (2.0, 2.0)\n"
     ]
    }
   ],
   "source": [
    "oneside.enc1 = new_dec1.copy()\n",
    "oneside.enc2 = new_dec2.copy()\n",
    "print(\"Mutual information between each encoder and its basic property: \", oneside.get_mutual_info()[:2])\n",
    "pid_sensory_myopic['{0}'] = oneside.get_mutual_info()[0]\n",
    "pid_sensory_myopic['{1}'] = oneside.get_mutual_info()[1]"
   ]
  },
  {
   "cell_type": "markdown",
   "metadata": {},
   "source": [
    "PID for affordance information"
   ]
  },
  {
   "cell_type": "code",
   "execution_count": 316,
   "metadata": {},
   "outputs": [
    {
     "name": "stdout",
     "output_type": "stream",
     "text": [
      "PID BROJA:\n",
      " +---------+--------+--------+\n",
      "| I_broja |  I_r   |   pi   |\n",
      "+---------+--------+--------+\n",
      "|  {0:1}  | 4.0000 | 0.0000 |\n",
      "|   {0}   | 2.0000 | 2.0000 |\n",
      "|   {1}   | 2.0000 | 2.0000 |\n",
      "|  {0}{1} | 0.0000 | 0.0000 |\n",
      "+---------+--------+--------+\n"
     ]
    }
   ],
   "source": [
    "oneside.fitnessmap = fitnessmap\n",
    "sensory_encoding = oneside.get_affordance_encodings()\n",
    "pid_affordance_myopic = oneside.get_pid_measures(3, sensory_encoding)"
   ]
  },
  {
   "cell_type": "markdown",
   "metadata": {
    "id": "UMUaq4OtiFZA"
   },
   "source": [
    "## Finally, do the good encoders carry more information about their own sensory data"
   ]
  },
  {
   "cell_type": "code",
   "execution_count": 330,
   "metadata": {
    "executionInfo": {
     "elapsed": 219,
     "status": "ok",
     "timestamp": 1698412272104,
     "user": {
      "displayName": "Miguel de Llanza",
      "userId": "02333807101257220127"
     },
     "user_tz": -60
    },
    "id": "1y5YTzsPiFZA"
   },
   "outputs": [],
   "source": [
    "algo.enc1 = algo.random_enc()\n",
    "algo.enc2 = algo.random_enc()"
   ]
  },
  {
   "cell_type": "code",
   "execution_count": 331,
   "metadata": {
    "colab": {
     "base_uri": "https://localhost:8080/"
    },
    "executionInfo": {
     "elapsed": 987,
     "status": "ok",
     "timestamp": 1698412274335,
     "user": {
      "displayName": "Miguel de Llanza",
      "userId": "02333807101257220127"
     },
     "user_tz": -60
    },
    "id": "EWqCWfNxiFZA",
    "outputId": "aa2cb71f-0d62-47ae-8ab6-cf5f131bc959"
   },
   "outputs": [
    {
     "name": "stdout",
     "output_type": "stream",
     "text": [
      "Affordance reconstruction error: 853.367\n"
     ]
    }
   ],
   "source": [
    "recons_error_good = algo.main_loop()\n",
    "print(\"Affordance reconstruction error:\", round(recons_error_good, 3))"
   ]
  },
  {
   "cell_type": "code",
   "execution_count": 332,
   "metadata": {},
   "outputs": [],
   "source": [
    "unique_values, counts = np.unique(algo.enc1, return_counts=True)\n",
    "\n",
    "# Create a dictionary to store the distribution\n",
    "good = dict(zip(map(str, unique_values), counts/len(algo.enc1)))\n",
    "\n",
    "unique_values, counts = np.unique(myopic1, return_counts=True)\n",
    "\n",
    "# Create a dictionary to store the distribution\n",
    "bad = dict(zip(map(str, unique_values), counts/len(myopic1)))"
   ]
  },
  {
   "cell_type": "code",
   "execution_count": 333,
   "metadata": {},
   "outputs": [
    {
     "data": {
      "text/plain": [
       "{'0': 0.125, '1': 0.125, '2': 0.59375, '3': 0.15625}"
      ]
     },
     "execution_count": 333,
     "metadata": {},
     "output_type": "execute_result"
    }
   ],
   "source": [
    "good"
   ]
  },
  {
   "cell_type": "code",
   "execution_count": 334,
   "metadata": {},
   "outputs": [
    {
     "data": {
      "text/plain": [
       "{'0': 0.0625, '1': 0.53125, '2': 0.28125, '3': 0.125}"
      ]
     },
     "execution_count": 334,
     "metadata": {},
     "output_type": "execute_result"
    }
   ],
   "source": [
    "bad"
   ]
  },
  {
   "cell_type": "code",
   "execution_count": 335,
   "metadata": {
    "colab": {
     "base_uri": "https://localhost:8080/"
    },
    "executionInfo": {
     "elapsed": 10,
     "status": "ok",
     "timestamp": 1698412274335,
     "user": {
      "displayName": "Miguel de Llanza",
      "userId": "02333807101257220127"
     },
     "user_tz": -60
    },
    "id": "wYEI2o2miFZA",
    "outputId": "4980b02b-5299-4fee-ebd0-543a35798bf7"
   },
   "outputs": [
    {
     "name": "stdout",
     "output_type": "stream",
     "text": [
      "[ 0  1  2  3  4  5  6  7  8  9 10 11 12 13 14 15 16 17 18 19 20 21 22 23\n",
      " 24 25 26 27 28 29 30 31]\n",
      "[0 0 0 0 0 0 0 0 3 3 3 3 2 2 2 3 3 3 1 1 1 1 1 1 1 1 1 1 1 1 1 1]\n",
      "MSE encoder 1 - basic property 1: 36.5375\n",
      "\n",
      "MSE encoder 2 - basic property 2: 10.3125\n"
     ]
    }
   ],
   "source": [
    "# get mse for each encoder its basic property\n",
    "oneside.fitnessmap = np.arange(oneside.side)\n",
    "print(oneside.fitnessmap)\n",
    "print(oneside.enc)\n",
    "oneside.enc = algo.enc1.copy()\n",
    "dec1, mse_good_sensory1 = oneside.mmse_decoder()\n",
    "print(\"MSE encoder 1 - basic property 1:\", mse_good_sensory1)\n",
    "\n",
    "print(\"\")\n",
    "oneside.enc = algo.enc2.copy()\n",
    "myopic2 = oneside.enc\n",
    "dec2, mse_good_sensory2 = oneside.mmse_decoder()\n",
    "print(\"MSE encoder 2 - basic property 2:\", mse_good_sensory2)"
   ]
  },
  {
   "cell_type": "code",
   "execution_count": 336,
   "metadata": {},
   "outputs": [],
   "source": [
    "oneside.enc1 = algo.enc1.copy()\n",
    "oneside.enc2 = algo.enc2.copy()\n",
    "\n",
    "oneside.decoder1 = dec1\n",
    "oneside.decoder2 = dec2\n",
    "\n",
    "good_dec1, good_dec2 = oneside.get_decoders()\n",
    "oneside.decoder1 = good_dec1\n",
    "oneside.decoder2 = good_dec2"
   ]
  },
  {
   "cell_type": "markdown",
   "metadata": {},
   "source": [
    "PID for sensory information"
   ]
  },
  {
   "cell_type": "code",
   "execution_count": 337,
   "metadata": {},
   "outputs": [
    {
     "name": "stdout",
     "output_type": "stream",
     "text": [
      "PID BROJA:\n",
      " +---------+--------+--------+\n",
      "| I_broja |  I_r   |   pi   |\n",
      "+---------+--------+--------+\n",
      "|  {0:1}  | 2.5039 | 0.0000 |\n",
      "|   {0}   | 1.3650 | 0.5414 |\n",
      "|   {1}   | 1.9626 | 1.1389 |\n",
      "|  {0}{1} | 0.8236 | 0.8236 |\n",
      "+---------+--------+--------+\n"
     ]
    }
   ],
   "source": [
    "sensory_encoding = oneside.get_sensory_encodings()\n",
    "pid_sensory_comput = oneside.get_pid_measures(3, sensory_encoding)"
   ]
  },
  {
   "cell_type": "code",
   "execution_count": 338,
   "metadata": {},
   "outputs": [
    {
     "name": "stdout",
     "output_type": "stream",
     "text": [
      "Mutual information between each encoder and its basic property:  (1.3649917740667208, 1.9625745152068985)\n"
     ]
    }
   ],
   "source": [
    "oneside.enc2 = good_dec2.copy()\n",
    "oneside.enc1 = good_dec1.copy()\n",
    "print(\"Mutual information between each encoder and its basic property: \", oneside.get_mutual_info()[:2])\n",
    "pid_sensory_comput['{0}'] = oneside.get_mutual_info()[0]\n",
    "pid_sensory_comput['{1}'] = oneside.get_mutual_info()[1]"
   ]
  },
  {
   "cell_type": "markdown",
   "metadata": {},
   "source": [
    "PID for affordance information"
   ]
  },
  {
   "cell_type": "code",
   "execution_count": 339,
   "metadata": {},
   "outputs": [
    {
     "ename": "KeyboardInterrupt",
     "evalue": "",
     "output_type": "error",
     "traceback": [
      "\u001b[0;31m---------------------------------------------------------------------------\u001b[0m",
      "\u001b[0;31mKeyboardInterrupt\u001b[0m                         Traceback (most recent call last)",
      "Input \u001b[0;32mIn [339]\u001b[0m, in \u001b[0;36m<cell line: 3>\u001b[0;34m()\u001b[0m\n\u001b[1;32m      1\u001b[0m oneside\u001b[38;5;241m.\u001b[39mfitnessmap \u001b[38;5;241m=\u001b[39m fitnessmap\n\u001b[1;32m      2\u001b[0m sensory_encoding \u001b[38;5;241m=\u001b[39m oneside\u001b[38;5;241m.\u001b[39mget_affordance_encodings()\n\u001b[0;32m----> 3\u001b[0m pid_affordance_comput \u001b[38;5;241m=\u001b[39m \u001b[43moneside\u001b[49m\u001b[38;5;241;43m.\u001b[39;49m\u001b[43mget_pid_measures\u001b[49m\u001b[43m(\u001b[49m\u001b[38;5;241;43m3\u001b[39;49m\u001b[43m,\u001b[49m\u001b[43m \u001b[49m\u001b[43msensory_encoding\u001b[49m\u001b[43m)\u001b[49m\n",
      "Input \u001b[0;32mIn [293]\u001b[0m, in \u001b[0;36mSingle_Enc_One_Side.get_pid_measures\u001b[0;34m(self, n, encoding, show)\u001b[0m\n\u001b[1;32m    129\u001b[0m pid_myopic \u001b[38;5;241m=\u001b[39m dit\u001b[38;5;241m.\u001b[39mDistribution(encoding, [\u001b[38;5;241m1\u001b[39m\u001b[38;5;241m/\u001b[39m\u001b[38;5;28mlen\u001b[39m(encoding)]\u001b[38;5;241m*\u001b[39m\u001b[38;5;28mlen\u001b[39m(encoding))\n\u001b[1;32m    130\u001b[0m pid_myopic\u001b[38;5;241m.\u001b[39mset_rv_names(\u001b[38;5;28mlist\u001b[39m(\u001b[38;5;28mrange\u001b[39m(n)))\n\u001b[0;32m--> 132\u001b[0m pid_measure \u001b[38;5;241m=\u001b[39m \u001b[43mPID_BROJA\u001b[49m\u001b[43m(\u001b[49m\u001b[43mpid_myopic\u001b[49m\u001b[43m)\u001b[49m\n\u001b[1;32m    134\u001b[0m pid_names \u001b[38;5;241m=\u001b[39m [\u001b[38;5;124m\"\u001b[39m\u001b[38;5;132;01m{0}\u001b[39;00m\u001b[38;5;124m\"\u001b[39m, \u001b[38;5;124m\"\u001b[39m\u001b[38;5;132;01m{1}\u001b[39;00m\u001b[38;5;124m\"\u001b[39m, \u001b[38;5;124m\"\u001b[39m\u001b[38;5;132;01m{0}\u001b[39;00m\u001b[38;5;132;01m{1}\u001b[39;00m\u001b[38;5;124m\"\u001b[39m, \u001b[38;5;124m\"\u001b[39m\u001b[38;5;132;01m{0:1}\u001b[39;00m\u001b[38;5;124m\"\u001b[39m]\n\u001b[1;32m    135\u001b[0m pid_dict \u001b[38;5;241m=\u001b[39m {}\n",
      "File \u001b[0;32m~/opt/anaconda3/lib/python3.9/site-packages/dit/pid/pid.py:127\u001b[0m, in \u001b[0;36mBasePID.__init__\u001b[0;34m(self, dist, inputs, output, reds, pis, **kwargs)\u001b[0m\n\u001b[1;32m    124\u001b[0m \u001b[38;5;28mself\u001b[39m\u001b[38;5;241m.\u001b[39m_reds \u001b[38;5;241m=\u001b[39m {} \u001b[38;5;28;01mif\u001b[39;00m reds \u001b[38;5;129;01mis\u001b[39;00m \u001b[38;5;28;01mNone\u001b[39;00m \u001b[38;5;28;01melse\u001b[39;00m reds\n\u001b[1;32m    125\u001b[0m \u001b[38;5;28mself\u001b[39m\u001b[38;5;241m.\u001b[39m_pis \u001b[38;5;241m=\u001b[39m {} \u001b[38;5;28;01mif\u001b[39;00m pis \u001b[38;5;129;01mis\u001b[39;00m \u001b[38;5;28;01mNone\u001b[39;00m \u001b[38;5;28;01melse\u001b[39;00m pis\n\u001b[0;32m--> 127\u001b[0m \u001b[38;5;28;43mself\u001b[39;49m\u001b[38;5;241;43m.\u001b[39;49m\u001b[43m_compute\u001b[49m\u001b[43m(\u001b[49m\u001b[43m)\u001b[49m\n",
      "File \u001b[0;32m~/opt/anaconda3/lib/python3.9/site-packages/dit/pid/pid.py:640\u001b[0m, in \u001b[0;36mBaseUniquePID._compute\u001b[0;34m(self)\u001b[0m\n\u001b[1;32m    637\u001b[0m \u001b[38;5;28;01mdef\u001b[39;00m \u001b[38;5;21m_compute\u001b[39m(\u001b[38;5;28mself\u001b[39m):\n\u001b[1;32m    638\u001b[0m     \u001b[38;5;124;03m\"\"\"\u001b[39;00m\n\u001b[1;32m    639\u001b[0m \u001b[38;5;124;03m    \"\"\"\u001b[39;00m\n\u001b[0;32m--> 640\u001b[0m     uniques \u001b[38;5;241m=\u001b[39m \u001b[38;5;28;43mself\u001b[39;49m\u001b[38;5;241;43m.\u001b[39;49m\u001b[43m_measure\u001b[49m\u001b[43m(\u001b[49m\u001b[38;5;28;43mself\u001b[39;49m\u001b[38;5;241;43m.\u001b[39;49m\u001b[43m_dist\u001b[49m\u001b[43m,\u001b[49m\u001b[43m \u001b[49m\u001b[38;5;28;43mself\u001b[39;49m\u001b[38;5;241;43m.\u001b[39;49m\u001b[43m_inputs\u001b[49m\u001b[43m,\u001b[49m\u001b[43m \u001b[49m\u001b[38;5;28;43mself\u001b[39;49m\u001b[38;5;241;43m.\u001b[39;49m\u001b[43m_output\u001b[49m\u001b[43m,\u001b[49m\u001b[43m \u001b[49m\u001b[38;5;241;43m*\u001b[39;49m\u001b[38;5;241;43m*\u001b[39;49m\u001b[38;5;28;43mself\u001b[39;49m\u001b[38;5;241;43m.\u001b[39;49m\u001b[43m_kwargs\u001b[49m\u001b[43m)\u001b[49m\n\u001b[1;32m    642\u001b[0m     \u001b[38;5;28;01mfor\u001b[39;00m node \u001b[38;5;129;01min\u001b[39;00m \u001b[38;5;28mself\u001b[39m\u001b[38;5;241m.\u001b[39m_lattice:\n\u001b[1;32m    643\u001b[0m         \u001b[38;5;28;01mif\u001b[39;00m \u001b[38;5;28mlen\u001b[39m(node) \u001b[38;5;241m==\u001b[39m \u001b[38;5;241m1\u001b[39m \u001b[38;5;129;01mand\u001b[39;00m node[\u001b[38;5;241m0\u001b[39m] \u001b[38;5;129;01min\u001b[39;00m uniques \u001b[38;5;129;01mand\u001b[39;00m node \u001b[38;5;129;01mnot\u001b[39;00m \u001b[38;5;129;01min\u001b[39;00m \u001b[38;5;28mself\u001b[39m\u001b[38;5;241m.\u001b[39m_pis:\n",
      "File \u001b[0;32m~/opt/anaconda3/lib/python3.9/site-packages/dit/pid/measures/ibroja.py:118\u001b[0m, in \u001b[0;36mPID_BROJA._measure\u001b[0;34m(d, sources, target, maxiter)\u001b[0m\n\u001b[1;32m    116\u001b[0m \u001b[38;5;28;01mif\u001b[39;00m \u001b[38;5;28mlen\u001b[39m(sources) \u001b[38;5;241m==\u001b[39m \u001b[38;5;241m2\u001b[39m:\n\u001b[1;32m    117\u001b[0m     broja \u001b[38;5;241m=\u001b[39m BROJABivariateOptimizer(d, \u001b[38;5;28mlist\u001b[39m(sources), target)\n\u001b[0;32m--> 118\u001b[0m     \u001b[43mbroja\u001b[49m\u001b[38;5;241;43m.\u001b[39;49m\u001b[43moptimize\u001b[49m\u001b[43m(\u001b[49m\u001b[43mniter\u001b[49m\u001b[38;5;241;43m=\u001b[39;49m\u001b[38;5;241;43m1\u001b[39;49m\u001b[43m,\u001b[49m\u001b[43m \u001b[49m\u001b[43mmaxiter\u001b[49m\u001b[38;5;241;43m=\u001b[39;49m\u001b[43mmaxiter\u001b[49m\u001b[43m)\u001b[49m\n\u001b[1;32m    119\u001b[0m     opt_dist \u001b[38;5;241m=\u001b[39m broja\u001b[38;5;241m.\u001b[39mconstruct_dist()\n\u001b[1;32m    120\u001b[0m     uniques[sources[\u001b[38;5;241m0\u001b[39m]] \u001b[38;5;241m=\u001b[39m coinformation(opt_dist, [[\u001b[38;5;241m0\u001b[39m], [\u001b[38;5;241m2\u001b[39m]], [\u001b[38;5;241m1\u001b[39m])\n",
      "File \u001b[0;32m~/opt/anaconda3/lib/python3.9/site-packages/dit/algorithms/distribution_optimizers.py:139\u001b[0m, in \u001b[0;36mBaseDistOptimizer.optimize\u001b[0;34m(self, x0, niter, maxiter, polish, callback)\u001b[0m\n\u001b[1;32m    135\u001b[0m \u001b[38;5;28;01mif\u001b[39;00m x0 \u001b[38;5;129;01mis\u001b[39;00m \u001b[38;5;129;01mnot\u001b[39;00m \u001b[38;5;28;01mNone\u001b[39;00m \u001b[38;5;129;01mand\u001b[39;00m \u001b[38;5;28mlen\u001b[39m(x0) \u001b[38;5;241m==\u001b[39m \u001b[38;5;28mlen\u001b[39m(\u001b[38;5;28mself\u001b[39m\u001b[38;5;241m.\u001b[39m_vpmf):\n\u001b[1;32m    136\u001b[0m     \u001b[38;5;66;03m# if a full pmf vector was passed in, restrict it to the free\u001b[39;00m\n\u001b[1;32m    137\u001b[0m     \u001b[38;5;66;03m# indices:\u001b[39;00m\n\u001b[1;32m    138\u001b[0m     x0 \u001b[38;5;241m=\u001b[39m x0[\u001b[38;5;28mself\u001b[39m\u001b[38;5;241m.\u001b[39m_free]\n\u001b[0;32m--> 139\u001b[0m result \u001b[38;5;241m=\u001b[39m \u001b[38;5;28;43msuper\u001b[39;49m\u001b[43m(\u001b[49m\u001b[43m)\u001b[49m\u001b[38;5;241;43m.\u001b[39;49m\u001b[43moptimize\u001b[49m\u001b[43m(\u001b[49m\u001b[43mx0\u001b[49m\u001b[38;5;241;43m=\u001b[39;49m\u001b[43mx0\u001b[49m\u001b[43m,\u001b[49m\n\u001b[1;32m    140\u001b[0m \u001b[43m                          \u001b[49m\u001b[43mniter\u001b[49m\u001b[38;5;241;43m=\u001b[39;49m\u001b[43mniter\u001b[49m\u001b[43m,\u001b[49m\n\u001b[1;32m    141\u001b[0m \u001b[43m                          \u001b[49m\u001b[43mmaxiter\u001b[49m\u001b[38;5;241;43m=\u001b[39;49m\u001b[43mmaxiter\u001b[49m\u001b[43m,\u001b[49m\n\u001b[1;32m    142\u001b[0m \u001b[43m                          \u001b[49m\u001b[43mpolish\u001b[49m\u001b[38;5;241;43m=\u001b[39;49m\u001b[43mpolish\u001b[49m\u001b[43m,\u001b[49m\n\u001b[1;32m    143\u001b[0m \u001b[43m                          \u001b[49m\u001b[43mcallback\u001b[49m\u001b[38;5;241;43m=\u001b[39;49m\u001b[43mcallback\u001b[49m\u001b[43m)\u001b[49m\n\u001b[1;32m    144\u001b[0m \u001b[38;5;28;01mreturn\u001b[39;00m result\n",
      "File \u001b[0;32m~/opt/anaconda3/lib/python3.9/site-packages/dit/algorithms/optimization.py:764\u001b[0m, in \u001b[0;36mBaseOptimizer.optimize\u001b[0;34m(self, x0, niter, maxiter, polish, callback)\u001b[0m\n\u001b[1;32m    760\u001b[0m     minimizer_kwargs[\u001b[38;5;124m'\u001b[39m\u001b[38;5;124moptions\u001b[39m\u001b[38;5;124m'\u001b[39m][\u001b[38;5;124m'\u001b[39m\u001b[38;5;124mmaxiter\u001b[39m\u001b[38;5;124m'\u001b[39m] \u001b[38;5;241m=\u001b[39m maxiter\n\u001b[1;32m    762\u001b[0m \u001b[38;5;28mself\u001b[39m\u001b[38;5;241m.\u001b[39m_callback \u001b[38;5;241m=\u001b[39m BasinHoppingCallBack(minimizer_kwargs\u001b[38;5;241m.\u001b[39mget(\u001b[38;5;124m'\u001b[39m\u001b[38;5;124mconstraints\u001b[39m\u001b[38;5;124m'\u001b[39m, {}), icb)\n\u001b[0;32m--> 764\u001b[0m result \u001b[38;5;241m=\u001b[39m \u001b[38;5;28;43mself\u001b[39;49m\u001b[38;5;241;43m.\u001b[39;49m\u001b[43m_optimization_backend\u001b[49m\u001b[43m(\u001b[49m\u001b[43mx0\u001b[49m\u001b[43m,\u001b[49m\u001b[43m \u001b[49m\u001b[43mminimizer_kwargs\u001b[49m\u001b[43m,\u001b[49m\u001b[43m \u001b[49m\u001b[43mniter\u001b[49m\u001b[43m)\u001b[49m\n\u001b[1;32m    766\u001b[0m \u001b[38;5;28;01mif\u001b[39;00m result:\n\u001b[1;32m    767\u001b[0m     \u001b[38;5;28mself\u001b[39m\u001b[38;5;241m.\u001b[39m_optima \u001b[38;5;241m=\u001b[39m result\u001b[38;5;241m.\u001b[39mx\n",
      "File \u001b[0;32m~/opt/anaconda3/lib/python3.9/site-packages/dit/algorithms/optimization.py:953\u001b[0m, in \u001b[0;36mBaseNonConvexOptimizer._optimization_basinhopping\u001b[0;34m(self, x0, minimizer_kwargs, niter)\u001b[0m\n\u001b[1;32m    950\u001b[0m \u001b[38;5;28;01melse\u001b[39;00m:\n\u001b[1;32m    951\u001b[0m     res_shotgun \u001b[38;5;241m=\u001b[39m \u001b[38;5;28;01mNone\u001b[39;00m\n\u001b[0;32m--> 953\u001b[0m result \u001b[38;5;241m=\u001b[39m \u001b[43mbasinhopping\u001b[49m\u001b[43m(\u001b[49m\u001b[43mfunc\u001b[49m\u001b[38;5;241;43m=\u001b[39;49m\u001b[38;5;28;43mself\u001b[39;49m\u001b[38;5;241;43m.\u001b[39;49m\u001b[43mobjective\u001b[49m\u001b[43m,\u001b[49m\n\u001b[1;32m    954\u001b[0m \u001b[43m                      \u001b[49m\u001b[43mx0\u001b[49m\u001b[38;5;241;43m=\u001b[39;49m\u001b[43mx0\u001b[49m\u001b[43m,\u001b[49m\n\u001b[1;32m    955\u001b[0m \u001b[43m                      \u001b[49m\u001b[43mminimizer_kwargs\u001b[49m\u001b[38;5;241;43m=\u001b[39;49m\u001b[43mminimizer_kwargs\u001b[49m\u001b[43m,\u001b[49m\n\u001b[1;32m    956\u001b[0m \u001b[43m                      \u001b[49m\u001b[43mniter\u001b[49m\u001b[38;5;241;43m=\u001b[39;49m\u001b[43mniter\u001b[49m\u001b[43m,\u001b[49m\n\u001b[1;32m    957\u001b[0m \u001b[43m                      \u001b[49m\u001b[43maccept_test\u001b[49m\u001b[38;5;241;43m=\u001b[39;49m\u001b[43maccept_test\u001b[49m\u001b[43m,\u001b[49m\n\u001b[1;32m    958\u001b[0m \u001b[43m                      \u001b[49m\u001b[43mcallback\u001b[49m\u001b[38;5;241;43m=\u001b[39;49m\u001b[38;5;28;43mself\u001b[39;49m\u001b[38;5;241;43m.\u001b[39;49m\u001b[43m_callback\u001b[49m\u001b[43m,\u001b[49m\n\u001b[1;32m    959\u001b[0m \u001b[43m                      \u001b[49m\u001b[43m)\u001b[49m\n\u001b[1;32m    961\u001b[0m success, _ \u001b[38;5;241m=\u001b[39m basinhop_status(result)\n\u001b[1;32m    962\u001b[0m \u001b[38;5;28;01mif\u001b[39;00m \u001b[38;5;129;01mnot\u001b[39;00m success:  \u001b[38;5;66;03m# pragma: no cover\u001b[39;00m\n",
      "File \u001b[0;32m~/opt/anaconda3/lib/python3.9/site-packages/scipy/optimize/_basinhopping.py:722\u001b[0m, in \u001b[0;36mbasinhopping\u001b[0;34m(func, x0, niter, T, stepsize, minimizer_kwargs, take_step, accept_test, callback, interval, disp, niter_success, seed, target_accept_rate, stepwise_factor)\u001b[0m\n\u001b[1;32m    719\u001b[0m \u001b[38;5;28;01mif\u001b[39;00m niter_success \u001b[38;5;129;01mis\u001b[39;00m \u001b[38;5;28;01mNone\u001b[39;00m:\n\u001b[1;32m    720\u001b[0m     niter_success \u001b[38;5;241m=\u001b[39m niter \u001b[38;5;241m+\u001b[39m \u001b[38;5;241m2\u001b[39m\n\u001b[0;32m--> 722\u001b[0m bh \u001b[38;5;241m=\u001b[39m \u001b[43mBasinHoppingRunner\u001b[49m\u001b[43m(\u001b[49m\u001b[43mx0\u001b[49m\u001b[43m,\u001b[49m\u001b[43m \u001b[49m\u001b[43mwrapped_minimizer\u001b[49m\u001b[43m,\u001b[49m\u001b[43m \u001b[49m\u001b[43mtake_step_wrapped\u001b[49m\u001b[43m,\u001b[49m\n\u001b[1;32m    723\u001b[0m \u001b[43m                        \u001b[49m\u001b[43maccept_tests\u001b[49m\u001b[43m,\u001b[49m\u001b[43m \u001b[49m\u001b[43mdisp\u001b[49m\u001b[38;5;241;43m=\u001b[39;49m\u001b[43mdisp\u001b[49m\u001b[43m)\u001b[49m\n\u001b[1;32m    725\u001b[0m \u001b[38;5;66;03m# The wrapped minimizer is called once during construction of\u001b[39;00m\n\u001b[1;32m    726\u001b[0m \u001b[38;5;66;03m# BasinHoppingRunner, so run the callback\u001b[39;00m\n\u001b[1;32m    727\u001b[0m \u001b[38;5;28;01mif\u001b[39;00m callable(callback):\n",
      "File \u001b[0;32m~/opt/anaconda3/lib/python3.9/site-packages/scipy/optimize/_basinhopping.py:72\u001b[0m, in \u001b[0;36mBasinHoppingRunner.__init__\u001b[0;34m(self, x0, minimizer, step_taking, accept_tests, disp)\u001b[0m\n\u001b[1;32m     69\u001b[0m \u001b[38;5;28mself\u001b[39m\u001b[38;5;241m.\u001b[39mres\u001b[38;5;241m.\u001b[39mminimization_failures \u001b[38;5;241m=\u001b[39m \u001b[38;5;241m0\u001b[39m\n\u001b[1;32m     71\u001b[0m \u001b[38;5;66;03m# do initial minimization\u001b[39;00m\n\u001b[0;32m---> 72\u001b[0m minres \u001b[38;5;241m=\u001b[39m \u001b[43mminimizer\u001b[49m\u001b[43m(\u001b[49m\u001b[38;5;28;43mself\u001b[39;49m\u001b[38;5;241;43m.\u001b[39;49m\u001b[43mx\u001b[49m\u001b[43m)\u001b[49m\n\u001b[1;32m     73\u001b[0m \u001b[38;5;28;01mif\u001b[39;00m \u001b[38;5;129;01mnot\u001b[39;00m minres\u001b[38;5;241m.\u001b[39msuccess:\n\u001b[1;32m     74\u001b[0m     \u001b[38;5;28mself\u001b[39m\u001b[38;5;241m.\u001b[39mres\u001b[38;5;241m.\u001b[39mminimization_failures \u001b[38;5;241m+\u001b[39m\u001b[38;5;241m=\u001b[39m \u001b[38;5;241m1\u001b[39m\n",
      "File \u001b[0;32m~/opt/anaconda3/lib/python3.9/site-packages/scipy/optimize/_basinhopping.py:292\u001b[0m, in \u001b[0;36mMinimizerWrapper.__call__\u001b[0;34m(self, x0)\u001b[0m\n\u001b[1;32m    290\u001b[0m     \u001b[38;5;28;01mreturn\u001b[39;00m \u001b[38;5;28mself\u001b[39m\u001b[38;5;241m.\u001b[39mminimizer(x0, \u001b[38;5;241m*\u001b[39m\u001b[38;5;241m*\u001b[39m\u001b[38;5;28mself\u001b[39m\u001b[38;5;241m.\u001b[39mkwargs)\n\u001b[1;32m    291\u001b[0m \u001b[38;5;28;01melse\u001b[39;00m:\n\u001b[0;32m--> 292\u001b[0m     \u001b[38;5;28;01mreturn\u001b[39;00m \u001b[38;5;28;43mself\u001b[39;49m\u001b[38;5;241;43m.\u001b[39;49m\u001b[43mminimizer\u001b[49m\u001b[43m(\u001b[49m\u001b[38;5;28;43mself\u001b[39;49m\u001b[38;5;241;43m.\u001b[39;49m\u001b[43mfunc\u001b[49m\u001b[43m,\u001b[49m\u001b[43m \u001b[49m\u001b[43mx0\u001b[49m\u001b[43m,\u001b[49m\u001b[43m \u001b[49m\u001b[38;5;241;43m*\u001b[39;49m\u001b[38;5;241;43m*\u001b[39;49m\u001b[38;5;28;43mself\u001b[39;49m\u001b[38;5;241;43m.\u001b[39;49m\u001b[43mkwargs\u001b[49m\u001b[43m)\u001b[49m\n",
      "File \u001b[0;32m~/opt/anaconda3/lib/python3.9/site-packages/scipy/optimize/_minimize.py:708\u001b[0m, in \u001b[0;36mminimize\u001b[0;34m(fun, x0, args, method, jac, hess, hessp, bounds, constraints, tol, callback, options)\u001b[0m\n\u001b[1;32m    705\u001b[0m     res \u001b[38;5;241m=\u001b[39m _minimize_cobyla(fun, x0, args, constraints, callback\u001b[38;5;241m=\u001b[39mcallback,\n\u001b[1;32m    706\u001b[0m                             \u001b[38;5;241m*\u001b[39m\u001b[38;5;241m*\u001b[39moptions)\n\u001b[1;32m    707\u001b[0m \u001b[38;5;28;01melif\u001b[39;00m meth \u001b[38;5;241m==\u001b[39m \u001b[38;5;124m'\u001b[39m\u001b[38;5;124mslsqp\u001b[39m\u001b[38;5;124m'\u001b[39m:\n\u001b[0;32m--> 708\u001b[0m     res \u001b[38;5;241m=\u001b[39m \u001b[43m_minimize_slsqp\u001b[49m\u001b[43m(\u001b[49m\u001b[43mfun\u001b[49m\u001b[43m,\u001b[49m\u001b[43m \u001b[49m\u001b[43mx0\u001b[49m\u001b[43m,\u001b[49m\u001b[43m \u001b[49m\u001b[43margs\u001b[49m\u001b[43m,\u001b[49m\u001b[43m \u001b[49m\u001b[43mjac\u001b[49m\u001b[43m,\u001b[49m\u001b[43m \u001b[49m\u001b[43mbounds\u001b[49m\u001b[43m,\u001b[49m\n\u001b[1;32m    709\u001b[0m \u001b[43m                          \u001b[49m\u001b[43mconstraints\u001b[49m\u001b[43m,\u001b[49m\u001b[43m \u001b[49m\u001b[43mcallback\u001b[49m\u001b[38;5;241;43m=\u001b[39;49m\u001b[43mcallback\u001b[49m\u001b[43m,\u001b[49m\u001b[43m \u001b[49m\u001b[38;5;241;43m*\u001b[39;49m\u001b[38;5;241;43m*\u001b[39;49m\u001b[43moptions\u001b[49m\u001b[43m)\u001b[49m\n\u001b[1;32m    710\u001b[0m \u001b[38;5;28;01melif\u001b[39;00m meth \u001b[38;5;241m==\u001b[39m \u001b[38;5;124m'\u001b[39m\u001b[38;5;124mtrust-constr\u001b[39m\u001b[38;5;124m'\u001b[39m:\n\u001b[1;32m    711\u001b[0m     res \u001b[38;5;241m=\u001b[39m _minimize_trustregion_constr(fun, x0, args, jac, hess, hessp,\n\u001b[1;32m    712\u001b[0m                                        bounds, constraints,\n\u001b[1;32m    713\u001b[0m                                        callback\u001b[38;5;241m=\u001b[39mcallback, \u001b[38;5;241m*\u001b[39m\u001b[38;5;241m*\u001b[39moptions)\n",
      "File \u001b[0;32m~/opt/anaconda3/lib/python3.9/site-packages/scipy/optimize/_slsqp_py.py:433\u001b[0m, in \u001b[0;36m_minimize_slsqp\u001b[0;34m(func, x0, args, jac, bounds, constraints, maxiter, ftol, iprint, disp, eps, callback, finite_diff_rel_step, **unknown_options)\u001b[0m\n\u001b[1;32m    431\u001b[0m \u001b[38;5;28;01mif\u001b[39;00m mode \u001b[38;5;241m==\u001b[39m \u001b[38;5;241m-\u001b[39m\u001b[38;5;241m1\u001b[39m:  \u001b[38;5;66;03m# gradient evaluation required\u001b[39;00m\n\u001b[1;32m    432\u001b[0m     g \u001b[38;5;241m=\u001b[39m append(wrapped_grad(x), \u001b[38;5;241m0.0\u001b[39m)\n\u001b[0;32m--> 433\u001b[0m     a \u001b[38;5;241m=\u001b[39m \u001b[43m_eval_con_normals\u001b[49m\u001b[43m(\u001b[49m\u001b[43mx\u001b[49m\u001b[43m,\u001b[49m\u001b[43m \u001b[49m\u001b[43mcons\u001b[49m\u001b[43m,\u001b[49m\u001b[43m \u001b[49m\u001b[43mla\u001b[49m\u001b[43m,\u001b[49m\u001b[43m \u001b[49m\u001b[43mn\u001b[49m\u001b[43m,\u001b[49m\u001b[43m \u001b[49m\u001b[43mm\u001b[49m\u001b[43m,\u001b[49m\u001b[43m \u001b[49m\u001b[43mmeq\u001b[49m\u001b[43m,\u001b[49m\u001b[43m \u001b[49m\u001b[43mmieq\u001b[49m\u001b[43m)\u001b[49m\n\u001b[1;32m    435\u001b[0m \u001b[38;5;28;01mif\u001b[39;00m majiter \u001b[38;5;241m>\u001b[39m majiter_prev:\n\u001b[1;32m    436\u001b[0m     \u001b[38;5;66;03m# call callback if major iteration has incremented\u001b[39;00m\n\u001b[1;32m    437\u001b[0m     \u001b[38;5;28;01mif\u001b[39;00m callback \u001b[38;5;129;01mis\u001b[39;00m \u001b[38;5;129;01mnot\u001b[39;00m \u001b[38;5;28;01mNone\u001b[39;00m:\n",
      "File \u001b[0;32m~/opt/anaconda3/lib/python3.9/site-packages/scipy/optimize/_slsqp_py.py:486\u001b[0m, in \u001b[0;36m_eval_con_normals\u001b[0;34m(x, cons, la, n, m, meq, mieq)\u001b[0m\n\u001b[1;32m    483\u001b[0m \u001b[38;5;28;01mdef\u001b[39;00m \u001b[38;5;21m_eval_con_normals\u001b[39m(x, cons, la, n, m, meq, mieq):\n\u001b[1;32m    484\u001b[0m     \u001b[38;5;66;03m# Compute the normals of the constraints\u001b[39;00m\n\u001b[1;32m    485\u001b[0m     \u001b[38;5;28;01mif\u001b[39;00m cons[\u001b[38;5;124m'\u001b[39m\u001b[38;5;124meq\u001b[39m\u001b[38;5;124m'\u001b[39m]:\n\u001b[0;32m--> 486\u001b[0m         a_eq \u001b[38;5;241m=\u001b[39m vstack([con[\u001b[38;5;124m'\u001b[39m\u001b[38;5;124mjac\u001b[39m\u001b[38;5;124m'\u001b[39m](x, \u001b[38;5;241m*\u001b[39mcon[\u001b[38;5;124m'\u001b[39m\u001b[38;5;124margs\u001b[39m\u001b[38;5;124m'\u001b[39m])\n\u001b[1;32m    487\u001b[0m                        \u001b[38;5;28;01mfor\u001b[39;00m con \u001b[38;5;129;01min\u001b[39;00m cons[\u001b[38;5;124m'\u001b[39m\u001b[38;5;124meq\u001b[39m\u001b[38;5;124m'\u001b[39m]])\n\u001b[1;32m    488\u001b[0m     \u001b[38;5;28;01melse\u001b[39;00m:  \u001b[38;5;66;03m# no equality constraint\u001b[39;00m\n\u001b[1;32m    489\u001b[0m         a_eq \u001b[38;5;241m=\u001b[39m zeros((meq, n))\n",
      "File \u001b[0;32m~/opt/anaconda3/lib/python3.9/site-packages/scipy/optimize/_slsqp_py.py:486\u001b[0m, in \u001b[0;36m<listcomp>\u001b[0;34m(.0)\u001b[0m\n\u001b[1;32m    483\u001b[0m \u001b[38;5;28;01mdef\u001b[39;00m \u001b[38;5;21m_eval_con_normals\u001b[39m(x, cons, la, n, m, meq, mieq):\n\u001b[1;32m    484\u001b[0m     \u001b[38;5;66;03m# Compute the normals of the constraints\u001b[39;00m\n\u001b[1;32m    485\u001b[0m     \u001b[38;5;28;01mif\u001b[39;00m cons[\u001b[38;5;124m'\u001b[39m\u001b[38;5;124meq\u001b[39m\u001b[38;5;124m'\u001b[39m]:\n\u001b[0;32m--> 486\u001b[0m         a_eq \u001b[38;5;241m=\u001b[39m vstack([\u001b[43mcon\u001b[49m\u001b[43m[\u001b[49m\u001b[38;5;124;43m'\u001b[39;49m\u001b[38;5;124;43mjac\u001b[39;49m\u001b[38;5;124;43m'\u001b[39;49m\u001b[43m]\u001b[49m\u001b[43m(\u001b[49m\u001b[43mx\u001b[49m\u001b[43m,\u001b[49m\u001b[43m \u001b[49m\u001b[38;5;241;43m*\u001b[39;49m\u001b[43mcon\u001b[49m\u001b[43m[\u001b[49m\u001b[38;5;124;43m'\u001b[39;49m\u001b[38;5;124;43margs\u001b[39;49m\u001b[38;5;124;43m'\u001b[39;49m\u001b[43m]\u001b[49m\u001b[43m)\u001b[49m\n\u001b[1;32m    487\u001b[0m                        \u001b[38;5;28;01mfor\u001b[39;00m con \u001b[38;5;129;01min\u001b[39;00m cons[\u001b[38;5;124m'\u001b[39m\u001b[38;5;124meq\u001b[39m\u001b[38;5;124m'\u001b[39m]])\n\u001b[1;32m    488\u001b[0m     \u001b[38;5;28;01melse\u001b[39;00m:  \u001b[38;5;66;03m# no equality constraint\u001b[39;00m\n\u001b[1;32m    489\u001b[0m         a_eq \u001b[38;5;241m=\u001b[39m zeros((meq, n))\n",
      "File \u001b[0;32m~/opt/anaconda3/lib/python3.9/site-packages/scipy/optimize/_slsqp_py.py:301\u001b[0m, in \u001b[0;36m_minimize_slsqp.<locals>.cjac_factory.<locals>.cjac\u001b[0;34m(x, *args)\u001b[0m\n\u001b[1;32m    297\u001b[0m     \u001b[38;5;28;01mreturn\u001b[39;00m approx_derivative(fun, x, method\u001b[38;5;241m=\u001b[39mjac, args\u001b[38;5;241m=\u001b[39margs,\n\u001b[1;32m    298\u001b[0m                              rel_step\u001b[38;5;241m=\u001b[39mfinite_diff_rel_step,\n\u001b[1;32m    299\u001b[0m                              bounds\u001b[38;5;241m=\u001b[39mnew_bounds)\n\u001b[1;32m    300\u001b[0m \u001b[38;5;28;01melse\u001b[39;00m:\n\u001b[0;32m--> 301\u001b[0m     \u001b[38;5;28;01mreturn\u001b[39;00m \u001b[43mapprox_derivative\u001b[49m\u001b[43m(\u001b[49m\u001b[43mfun\u001b[49m\u001b[43m,\u001b[49m\u001b[43m \u001b[49m\u001b[43mx\u001b[49m\u001b[43m,\u001b[49m\u001b[43m \u001b[49m\u001b[43mmethod\u001b[49m\u001b[38;5;241;43m=\u001b[39;49m\u001b[38;5;124;43m'\u001b[39;49m\u001b[38;5;124;43m2-point\u001b[39;49m\u001b[38;5;124;43m'\u001b[39;49m\u001b[43m,\u001b[49m\n\u001b[1;32m    302\u001b[0m \u001b[43m                             \u001b[49m\u001b[43mabs_step\u001b[49m\u001b[38;5;241;43m=\u001b[39;49m\u001b[43mepsilon\u001b[49m\u001b[43m,\u001b[49m\u001b[43m \u001b[49m\u001b[43margs\u001b[49m\u001b[38;5;241;43m=\u001b[39;49m\u001b[43margs\u001b[49m\u001b[43m,\u001b[49m\n\u001b[1;32m    303\u001b[0m \u001b[43m                             \u001b[49m\u001b[43mbounds\u001b[49m\u001b[38;5;241;43m=\u001b[39;49m\u001b[43mnew_bounds\u001b[49m\u001b[43m)\u001b[49m\n",
      "File \u001b[0;32m~/opt/anaconda3/lib/python3.9/site-packages/scipy/optimize/_numdiff.py:505\u001b[0m, in \u001b[0;36mapprox_derivative\u001b[0;34m(fun, x0, method, rel_step, abs_step, f0, bounds, sparsity, as_linear_operator, args, kwargs)\u001b[0m\n\u001b[1;32m    502\u001b[0m     use_one_sided \u001b[38;5;241m=\u001b[39m \u001b[38;5;28;01mFalse\u001b[39;00m\n\u001b[1;32m    504\u001b[0m \u001b[38;5;28;01mif\u001b[39;00m sparsity \u001b[38;5;129;01mis\u001b[39;00m \u001b[38;5;28;01mNone\u001b[39;00m:\n\u001b[0;32m--> 505\u001b[0m     \u001b[38;5;28;01mreturn\u001b[39;00m \u001b[43m_dense_difference\u001b[49m\u001b[43m(\u001b[49m\u001b[43mfun_wrapped\u001b[49m\u001b[43m,\u001b[49m\u001b[43m \u001b[49m\u001b[43mx0\u001b[49m\u001b[43m,\u001b[49m\u001b[43m \u001b[49m\u001b[43mf0\u001b[49m\u001b[43m,\u001b[49m\u001b[43m \u001b[49m\u001b[43mh\u001b[49m\u001b[43m,\u001b[49m\n\u001b[1;32m    506\u001b[0m \u001b[43m                             \u001b[49m\u001b[43muse_one_sided\u001b[49m\u001b[43m,\u001b[49m\u001b[43m \u001b[49m\u001b[43mmethod\u001b[49m\u001b[43m)\u001b[49m\n\u001b[1;32m    507\u001b[0m \u001b[38;5;28;01melse\u001b[39;00m:\n\u001b[1;32m    508\u001b[0m     \u001b[38;5;28;01mif\u001b[39;00m \u001b[38;5;129;01mnot\u001b[39;00m issparse(sparsity) \u001b[38;5;129;01mand\u001b[39;00m \u001b[38;5;28mlen\u001b[39m(sparsity) \u001b[38;5;241m==\u001b[39m \u001b[38;5;241m2\u001b[39m:\n",
      "File \u001b[0;32m~/opt/anaconda3/lib/python3.9/site-packages/scipy/optimize/_numdiff.py:576\u001b[0m, in \u001b[0;36m_dense_difference\u001b[0;34m(fun, x0, f0, h, use_one_sided, method)\u001b[0m\n\u001b[1;32m    574\u001b[0m     x \u001b[38;5;241m=\u001b[39m x0 \u001b[38;5;241m+\u001b[39m h_vecs[i]\n\u001b[1;32m    575\u001b[0m     dx \u001b[38;5;241m=\u001b[39m x[i] \u001b[38;5;241m-\u001b[39m x0[i]  \u001b[38;5;66;03m# Recompute dx as exactly representable number.\u001b[39;00m\n\u001b[0;32m--> 576\u001b[0m     df \u001b[38;5;241m=\u001b[39m \u001b[43mfun\u001b[49m\u001b[43m(\u001b[49m\u001b[43mx\u001b[49m\u001b[43m)\u001b[49m \u001b[38;5;241m-\u001b[39m f0\n\u001b[1;32m    577\u001b[0m \u001b[38;5;28;01melif\u001b[39;00m method \u001b[38;5;241m==\u001b[39m \u001b[38;5;124m'\u001b[39m\u001b[38;5;124m3-point\u001b[39m\u001b[38;5;124m'\u001b[39m \u001b[38;5;129;01mand\u001b[39;00m use_one_sided[i]:\n\u001b[1;32m    578\u001b[0m     x1 \u001b[38;5;241m=\u001b[39m x0 \u001b[38;5;241m+\u001b[39m h_vecs[i]\n",
      "File \u001b[0;32m~/opt/anaconda3/lib/python3.9/site-packages/scipy/optimize/_numdiff.py:456\u001b[0m, in \u001b[0;36mapprox_derivative.<locals>.fun_wrapped\u001b[0;34m(x)\u001b[0m\n\u001b[1;32m    455\u001b[0m \u001b[38;5;28;01mdef\u001b[39;00m \u001b[38;5;21mfun_wrapped\u001b[39m(x):\n\u001b[0;32m--> 456\u001b[0m     f \u001b[38;5;241m=\u001b[39m np\u001b[38;5;241m.\u001b[39matleast_1d(\u001b[43mfun\u001b[49m\u001b[43m(\u001b[49m\u001b[43mx\u001b[49m\u001b[43m,\u001b[49m\u001b[43m \u001b[49m\u001b[38;5;241;43m*\u001b[39;49m\u001b[43margs\u001b[49m\u001b[43m,\u001b[49m\u001b[43m \u001b[49m\u001b[38;5;241;43m*\u001b[39;49m\u001b[38;5;241;43m*\u001b[39;49m\u001b[43mkwargs\u001b[49m\u001b[43m)\u001b[49m)\n\u001b[1;32m    457\u001b[0m     \u001b[38;5;28;01mif\u001b[39;00m f\u001b[38;5;241m.\u001b[39mndim \u001b[38;5;241m>\u001b[39m \u001b[38;5;241m1\u001b[39m:\n\u001b[1;32m    458\u001b[0m         \u001b[38;5;28;01mraise\u001b[39;00m \u001b[38;5;167;01mRuntimeError\u001b[39;00m(\u001b[38;5;124m\"\u001b[39m\u001b[38;5;124m`fun` return value has \u001b[39m\u001b[38;5;124m\"\u001b[39m\n\u001b[1;32m    459\u001b[0m                            \u001b[38;5;124m\"\u001b[39m\u001b[38;5;124mmore than 1 dimension.\u001b[39m\u001b[38;5;124m\"\u001b[39m)\n",
      "File \u001b[0;32m~/opt/anaconda3/lib/python3.9/site-packages/dit/algorithms/distribution_optimizers.py:198\u001b[0m, in \u001b[0;36mBaseDistOptimizer.constraint_match_marginals\u001b[0;34m(self, x)\u001b[0m\n\u001b[1;32m    183\u001b[0m \u001b[38;5;124;03m\"\"\"\u001b[39;00m\n\u001b[1;32m    184\u001b[0m \u001b[38;5;124;03mEnsure that the joint distribution represented by the optimization\u001b[39;00m\n\u001b[1;32m    185\u001b[0m \u001b[38;5;124;03mvector matches that of the distribution.\u001b[39;00m\n\u001b[0;32m   (...)\u001b[0m\n\u001b[1;32m    195\u001b[0m \u001b[38;5;124;03m    The deviation from the constraint.\u001b[39;00m\n\u001b[1;32m    196\u001b[0m \u001b[38;5;124;03m\"\"\"\u001b[39;00m\n\u001b[1;32m    197\u001b[0m pmf \u001b[38;5;241m=\u001b[39m \u001b[38;5;28mself\u001b[39m\u001b[38;5;241m.\u001b[39mconstruct_vector(x)\n\u001b[0;32m--> 198\u001b[0m \u001b[38;5;28;01mreturn\u001b[39;00m \u001b[38;5;28msum\u001b[39m((\u001b[43mnp\u001b[49m\u001b[38;5;241;43m.\u001b[39;49m\u001b[43mdot\u001b[49m\u001b[43m(\u001b[49m\u001b[38;5;28;43mself\u001b[39;49m\u001b[38;5;241;43m.\u001b[39;49m\u001b[43m_A\u001b[49m\u001b[43m,\u001b[49m\u001b[43m \u001b[49m\u001b[43mpmf\u001b[49m\u001b[43m)\u001b[49m \u001b[38;5;241m-\u001b[39m \u001b[38;5;28mself\u001b[39m\u001b[38;5;241m.\u001b[39m_b)\u001b[38;5;241m*\u001b[39m\u001b[38;5;241m*\u001b[39m\u001b[38;5;241m2\u001b[39m)\n",
      "File \u001b[0;32m<__array_function__ internals>:200\u001b[0m, in \u001b[0;36mdot\u001b[0;34m(*args, **kwargs)\u001b[0m\n",
      "\u001b[0;31mKeyboardInterrupt\u001b[0m: "
     ]
    }
   ],
   "source": [
    "oneside.fitnessmap = fitnessmap\n",
    "sensory_encoding = oneside.get_affordance_encodings()\n",
    "pid_affordance_comput = oneside.get_pid_measures(3, sensory_encoding)"
   ]
  },
  {
   "cell_type": "code",
   "execution_count": 340,
   "metadata": {},
   "outputs": [],
   "source": [
    "plt.style.use('default')"
   ]
  },
  {
   "cell_type": "code",
   "execution_count": 341,
   "metadata": {
    "colab": {
     "base_uri": "https://localhost:8080/",
     "height": 430
    },
    "executionInfo": {
     "elapsed": 994,
     "status": "ok",
     "timestamp": 1698412373292,
     "user": {
      "displayName": "Miguel de Llanza",
      "userId": "02333807101257220127"
     },
     "user_tz": -60
    },
    "id": "bXhVXHN5Q8PS",
    "outputId": "c2d10be4-61be-4d6f-ad53-91f904e9fd1c"
   },
   "outputs": [
    {
     "ename": "IndexError",
     "evalue": "only integers, slices (`:`), ellipsis (`...`), numpy.newaxis (`None`) and integer or boolean arrays are valid indices",
     "output_type": "error",
     "traceback": [
      "\u001b[0;31m---------------------------------------------------------------------------\u001b[0m",
      "\u001b[0;31mIndexError\u001b[0m                                Traceback (most recent call last)",
      "Input \u001b[0;32mIn [341]\u001b[0m, in \u001b[0;36m<cell line: 1>\u001b[0;34m()\u001b[0m\n\u001b[0;32m----> 1\u001b[0m rep1 \u001b[38;5;241m=\u001b[39m \u001b[43moneside\u001b[49m\u001b[38;5;241;43m.\u001b[39;49m\u001b[43mrepresent_1\u001b[49m\u001b[43m(\u001b[49m\u001b[43mshowimage\u001b[49m\u001b[38;5;241;43m=\u001b[39;49m\u001b[38;5;28;43;01mFalse\u001b[39;49;00m\u001b[43m)\u001b[49m\n",
      "Input \u001b[0;32mIn [293]\u001b[0m, in \u001b[0;36mSingle_Enc_One_Side.represent_1\u001b[0;34m(self, showimage)\u001b[0m\n\u001b[1;32m     94\u001b[0m canvass \u001b[38;5;241m=\u001b[39m np\u001b[38;5;241m.\u001b[39mempty((\u001b[38;5;28mself\u001b[39m\u001b[38;5;241m.\u001b[39mside, \u001b[38;5;28mself\u001b[39m\u001b[38;5;241m.\u001b[39mside))\n\u001b[1;32m     95\u001b[0m \u001b[38;5;28;01mfor\u001b[39;00m i, j \u001b[38;5;129;01min\u001b[39;00m it\u001b[38;5;241m.\u001b[39mproduct(\u001b[38;5;28mrange\u001b[39m(\u001b[38;5;28mself\u001b[39m\u001b[38;5;241m.\u001b[39mside), repeat\u001b[38;5;241m=\u001b[39m\u001b[38;5;241m2\u001b[39m):\n\u001b[0;32m---> 96\u001b[0m     canvass[i, j] \u001b[38;5;241m=\u001b[39m \u001b[38;5;28;43mself\u001b[39;49m\u001b[38;5;241;43m.\u001b[39;49m\u001b[43mdecoder1\u001b[49m\u001b[43m[\u001b[49m\u001b[38;5;28;43mself\u001b[39;49m\u001b[38;5;241;43m.\u001b[39;49m\u001b[43menc1\u001b[49m\u001b[43m[\u001b[49m\u001b[43mi\u001b[49m\u001b[43m]\u001b[49m\u001b[43m]\u001b[49m\n\u001b[1;32m     97\u001b[0m \u001b[38;5;28;01mif\u001b[39;00m showimage:\n\u001b[1;32m     98\u001b[0m     plt\u001b[38;5;241m.\u001b[39mimshow(canvass)\n",
      "\u001b[0;31mIndexError\u001b[0m: only integers, slices (`:`), ellipsis (`...`), numpy.newaxis (`None`) and integer or boolean arrays are valid indices"
     ]
    }
   ],
   "source": [
    "rep1 = oneside.represent_1(showimage=False)"
   ]
  },
  {
   "cell_type": "code",
   "execution_count": null,
   "metadata": {},
   "outputs": [],
   "source": [
    "rep2 = oneside.represent_2(showimage=False)"
   ]
  },
  {
   "cell_type": "code",
   "execution_count": null,
   "metadata": {
    "colab": {
     "base_uri": "https://localhost:8080/",
     "height": 430
    },
    "executionInfo": {
     "elapsed": 209,
     "status": "ok",
     "timestamp": 1698412279954,
     "user": {
      "displayName": "Miguel de Llanza",
      "userId": "02333807101257220127"
     },
     "user_tz": -60
    },
    "id": "B1PbEbGDiFZB",
    "outputId": "085c5321-8e02-4c17-d4ac-ef54a294d06f"
   },
   "outputs": [],
   "source": [
    "repgood = algo.represent(showimage=False)"
   ]
  },
  {
   "cell_type": "code",
   "execution_count": null,
   "metadata": {},
   "outputs": [],
   "source": [
    "#plt.imshow(algo.fitnessmap)"
   ]
  },
  {
   "cell_type": "code",
   "execution_count": null,
   "metadata": {
    "colab": {
     "base_uri": "https://localhost:8080/",
     "height": 430
    },
    "executionInfo": {
     "elapsed": 1104,
     "status": "ok",
     "timestamp": 1698277738627,
     "user": {
      "displayName": "Miguel de Llanza",
      "userId": "02333807101257220127"
     },
     "user_tz": -60
    },
    "id": "AbU08GQqiFZB",
    "outputId": "d0e69b95-2e04-45ca-80e8-c9088fc5791e"
   },
   "outputs": [],
   "source": [
    "#plt.imshow(groundtruth)\n",
    "#plt.savefig(\"MNIST1_groundtruth.pdf\")"
   ]
  },
  {
   "cell_type": "code",
   "execution_count": null,
   "metadata": {
    "colab": {
     "base_uri": "https://localhost:8080/",
     "height": 411
    },
    "executionInfo": {
     "elapsed": 1753,
     "status": "ok",
     "timestamp": 1698277741915,
     "user": {
      "displayName": "Miguel de Llanza",
      "userId": "02333807101257220127"
     },
     "user_tz": -60
    },
    "id": "gdCNrAbwiFZB",
    "outputId": "5d7fc0c2-e36b-4f36-cf65-a349276e1bf0"
   },
   "outputs": [],
   "source": [
    "plt.subplot(2, 3, 1)\n",
    "plt.imshow(groundtruth)\n",
    "plt.subplot(2, 3, 2)\n",
    "plt.imshow(rep1)\n",
    "plt.subplot(2, 3, 3)\n",
    "plt.imshow(rep2)\n",
    "plt.subplot(2, 3, 4)\n",
    "plt.imshow(repmyopic)\n",
    "plt.subplot(2, 3, 5)\n",
    "plt.imshow(repgood)\n",
    "plt.savefig(\"MNIST1.pdf\")"
   ]
  },
  {
   "cell_type": "code",
   "execution_count": 319,
   "metadata": {},
   "outputs": [
    {
     "data": {
      "image/png": "[encoded data removed]",
      "text/plain": [
       "<Figure size 640x480 with 1 Axes>"
      ]
     },
     "metadata": {},
     "output_type": "display_data"
    }
   ],
   "source": [
    "array = dataset[2].copy()\n",
    "\n",
    "if True:\n",
    "    inds_1 = array <= 100\n",
    "    inds_2 = array > 100\n",
    "\n",
    "    array[inds_1] = 0\n",
    "    array[inds_2] = 1\n",
    "\n",
    "fitnessmap = array\n",
    "\n",
    "plt.title(\"Fitness Map\")\n",
    "plt.imshow(fitnessmap)\n",
    "plt.show()"
   ]
  },
  {
   "cell_type": "code",
   "execution_count": 342,
   "metadata": {},
   "outputs": [
    {
     "name": "stdout",
     "output_type": "stream",
     "text": [
      "[1 1 3 3 2 2 1 1 2 5 0 4 4 4 4 4 4 4 4 4 4 4 4 4 4 4 4 4]\n",
      "[10.          3.5         5.66666667  2.5        19.          9.        ]\n",
      "sensory myopic 1 16.220238095238095\n",
      "sensory myopic 1 34.56539115646258\n",
      "Mutual Myopic 2.584962500721156 2.584962500721156\n",
      "fitness myopic 1368.5234719888285\n",
      "\n",
      "Good encoders...\n",
      "Fitness Good 614.6711781156296\n",
      "sensory good 1 8.196428571428571\n",
      "sensory good 1 2.4285714285714284\n",
      "Mutual Good 2.584962500721156 2.584962500721156\n"
     ]
    }
   ],
   "source": [
    "side = 28\n",
    "signals = 6\n",
    "\n",
    "oneside = Single_Enc_One_Side(side, signals)\n",
    "oneside.fitnessmap = fitnessmap\n",
    "oneside.main(oneside.random_single_enc(), oneside.random_single_enc())\n",
    "represent1 = oneside.represent_1(showimage=False)\n",
    "represent2 = oneside.represent_2(showimage=False)\n",
    "\n",
    "# Now we see how informative these encoders are of their sensory modality\n",
    "oneside.fitnessmap = np.arange(oneside.side)\n",
    "oneside.enc = oneside.enc1\n",
    "sensory_myopic_decoder1, sensory_myopic1 = oneside.mmse_decoder()\n",
    "print(oneside.enc)\n",
    "print(sensory_myopic_decoder1)\n",
    "print(\"sensory myopic 1\", sensory_myopic1)\n",
    "\n",
    "oneside.enc = oneside.enc2\n",
    "sensory_myopic_decoder2, sensory_myopic2 = oneside.mmse_decoder()\n",
    "print(\"sensory myopic 1\", sensory_myopic2)\n",
    "\n",
    "sensory_encoding = oneside.get_sensory_encodings()\n",
    "pid_sensory_myopic = oneside.get_pid_measures(3, sensory_encoding, False)\n",
    "mut_1, mut_2 = oneside.get_mutual_info()[:2]\n",
    "print(\"Mutual Myopic\", mut_1, mut_2)\n",
    "\n",
    "# And how much info about fitness can the decoder get from the two myopic encoders?\n",
    "algo = Algorithm(side, signals)\n",
    "algo.fitnessmap = fitnessmap\n",
    "algo.enc1 = oneside.enc1.copy()\n",
    "algo.enc2 = oneside.enc2.copy()\n",
    "algo.decoder, algo.mse = algo.mmse_decoder()\n",
    "myopic_fitness = algo.mse\n",
    "print(\"fitness myopic\", myopic_fitness)\n",
    "\n",
    "print(\"\\nGood encoders...\")\n",
    "# Finally, do the good encoders carry more information about their own sensory data?\n",
    "good_fitness = algo.main_loop()\n",
    "print(\"Fitness Good\", good_fitness)\n",
    "\n",
    "represent3 = algo.represent(showimage=False)\n",
    "oneside.enc = algo.enc1.copy()\n",
    "_, sensory_good1 = oneside.mmse_decoder()\n",
    "print(\"sensory good 1\", sensory_good1)\n",
    "\n",
    "oneside.enc = algo.enc2.copy()\n",
    "_, sensory_good2 = oneside.mmse_decoder()\n",
    "print(\"sensory good 1\", sensory_good2)\n",
    "\n",
    "oneside.enc1 = algo.enc1.copy()\n",
    "oneside.enc2 = algo.enc2.copy()\n",
    "sensory_encoding = oneside.get_sensory_encodings()\n",
    "pid_sensory_comput = oneside.get_pid_measures(3, sensory_encoding, False)\n",
    "\n",
    "mut_1, mut_2 = oneside.get_mutual_info()[:2]\n",
    "print(\"Mutual Good\", mut_1, mut_2)"
   ]
  },
  {
   "cell_type": "markdown",
   "metadata": {
    "id": "dED_xspPiFZB"
   },
   "source": [
    "Now I need to put all of this together in a little script and run it for a few thousand samples"
   ]
  },
  {
   "cell_type": "code",
   "execution_count": null,
   "metadata": {
    "id": "NkMNRT_PiFZB"
   },
   "outputs": [],
   "source": [
    "def analyze(fitnessmaps, signals=6):\n",
    "    \"\"\"\n",
    "    Calculate, for a <fitnessmap>\n",
    "    a) The lowest distortion one can get with 6 signals per side\n",
    "    b) The lowest distortion about the sensory modality one can get with the encoders one gets in a)\n",
    "    c) The lowest distortion one can get if each encoder tries to minimize fitness distortion independently\n",
    "    d) The lowest distortion about the sensory modality one can get with the encoders one gets in c)\n",
    "    \"\"\"\n",
    "    \n",
    "    mf = []\n",
    "    sm1 = []\n",
    "    sm2 = []\n",
    "    mmt1 = []\n",
    "    mmt2 = []\n",
    "    gf = []\n",
    "    sg1 = []\n",
    "    sg2 = []\n",
    "    gmt1 = []\n",
    "    gmt2 = []\n",
    "    \n",
    "    for i,fitnessmap in enumerate(fitnessmaps):\n",
    "        print(\"Iter\", i)\n",
    "        side = fitnessmap.shape[0]\n",
    "\n",
    "        print(\"Myopic encoders...\")\n",
    "        # First we calculate the \"myopic encoders\" that try to maximize fitness independenty\n",
    "        oneside = Single_Enc_One_Side(side, signals)\n",
    "        oneside.fitnessmap = fitnessmap\n",
    "        oneside.main(oneside.random_single_enc(), oneside.random_single_enc())\n",
    "        represent1 = oneside.represent_1(showimage=False)\n",
    "        represent2 = oneside.represent_2(showimage=False)\n",
    "\n",
    "        # Now we see how informative these encoders are of their sensory modality\n",
    "        oneside.fitnessmap = np.arange(oneside.side)\n",
    "        oneside.enc = oneside.enc1\n",
    "        _, sensory_myopic1 = oneside.mmse_decoder()\n",
    "        sm1.append(sensory_myopic1)\n",
    "        oneside.enc = oneside.enc2\n",
    "        myo_enc1 = oneside.enc1\n",
    "        myo_enc2 = oneside.enc2\n",
    "        _, sensory_myopic2 = oneside.mmse_decoder()\n",
    "        sm2.append(sensory_myopic2)\n",
    "        sensory_encoding = oneside.get_sensory_encodings()\n",
    "        pid_sensory_myopic = oneside.get_pid_measures(3, sensory_encoding, False)\n",
    "        mut_1, mut_2 = oneside.get_mutual_info()\n",
    "        \n",
    "        mmt1.append(mut_1)\n",
    "        mmt2.append(mut_2)\n",
    "\n",
    "        # And how much info about fitness can the decoder get from the two myopic encoders?\n",
    "        algo = Algorithm(side, signals)\n",
    "        algo.fitnessmap = fitnessmap\n",
    "        algo.enc1 = oneside.enc1\n",
    "        algo.enc2 = oneside.enc2\n",
    "        algo.decoder, algo.mse = algo.mmse_decoder()\n",
    "        myopic_fitness = algo.mse\n",
    "        \n",
    "        mf.append(myopic_fitness)\n",
    "\n",
    "        print(\"Good encoders...\")\n",
    "        # Finally, do the good encoders carry more information about their own sensory data?\n",
    "        algo.enc1 = oneside.enc1\n",
    "        algo.enc2 = oneside.enc2\n",
    "        good_fitness = algo.main_loop()\n",
    "        gf.append(good_fitness)\n",
    "        \n",
    "        good_enc1 = algo.enc1\n",
    "        good_enc2 = algo.enc2\n",
    "        \n",
    "        represent3 = algo.represent(showimage=False)\n",
    "        oneside.enc = algo.enc1\n",
    "        _, sensory_good1 = oneside.mmse_decoder()\n",
    "        sg1.append(sensory_good1)\n",
    "        \n",
    "        oneside.enc = algo.enc2\n",
    "        oneside.mmse_decoder()\n",
    "        _, sensory_good2 = oneside.mmse_decoder()\n",
    "        sg2.append(sensory_good2)\n",
    "        sensory_encoding = oneside.get_sensory_encodings()\n",
    "        pid_sensory_comput = oneside.get_pid_measures(3, sensory_encoding, False)\n",
    "        mut_1, mut_2 = oneside.get_mutual_info()\n",
    "        \n",
    "        gmt1.append(mut_1)\n",
    "        gmt2.append(mut_2)\n",
    "\n",
    "    return  {\"myopic_fitness\":np.mean(mf),\n",
    "             \"sensory_myopic1\":np.mean(sm1),\n",
    "             \"sensory_myopic2\":np.mean(sm2),\n",
    "             \"myopic_mutal_inf1\":np.mean(mmt1),\n",
    "             \"myopic_mutal_inf2\":np.mean(mmt2),\n",
    "             \"good_fitness\": np.mean(gf),\n",
    "             \"sensory_good1\":np.mean(sg1),\n",
    "             \"sensory_good2\":np.mean(sg2),\n",
    "             \"good_mutual_inf1\":np.mean(gmt1),\n",
    "             \"good_mutual_inf2\":np.mean(gmt2),\n",
    "            }, myo_enc1, myo_enc2, good_enc1, good_enc2\n",
    "\n"
   ]
  },
  {
   "cell_type": "code",
   "execution_count": null,
   "metadata": {},
   "outputs": [],
   "source": [
    "fitnesmaps = []\n",
    "for array in dataset[:10]:\n",
    "    inds_1 = array > 0\n",
    "    inds_2 = array == 0\n",
    "\n",
    "    array[inds_1] = 0\n",
    "    array[inds_2] = 1\n",
    "    \n",
    "    fitnesmaps.append(array)"
   ]
  },
  {
   "cell_type": "code",
   "execution_count": null,
   "metadata": {},
   "outputs": [],
   "source": [
    "result = analyze(cats_grayscale[:1])"
   ]
  },
  {
   "cell_type": "code",
   "execution_count": null,
   "metadata": {},
   "outputs": [],
   "source": []
  },
  {
   "cell_type": "code",
   "execution_count": null,
   "metadata": {},
   "outputs": [],
   "source": [
    "for ar in result[1:]:\n",
    "    # Calculate the frequency distribution\n",
    "    unique_values, counts = np.unique(ar.flatten(), return_counts=True)\n",
    "\n",
    "    # Create a dictionary to store the distribution\n",
    "    distribution_dict = dict(zip(map(str, unique_values), counts/len(ar.flatten())))\n",
    "\n",
    "    entropy_fitness = dit.Distribution(distribution_dict)\n",
    "\n",
    "    print(dit.shannon.entropy(entropy_fitness))"
   ]
  },
  {
   "cell_type": "code",
   "execution_count": null,
   "metadata": {},
   "outputs": [],
   "source": [
    "new_df = pd.DataFrame([result[0]])\n",
    "new_df.round(2)"
   ]
  },
  {
   "cell_type": "markdown",
   "metadata": {
    "id": "Pa69NlWPiFZB"
   },
   "source": [
    "# Tiny ImageNet\n",
    "\n",
    "Let's try a similar exercise with grayscale images of cats!"
   ]
  },
  {
   "cell_type": "code",
   "execution_count": 242,
   "metadata": {
    "id": "3rgx0vkKiFZB"
   },
   "outputs": [],
   "source": [
    "from matplotlib.image import imread"
   ]
  },
  {
   "cell_type": "code",
   "execution_count": null,
   "metadata": {
    "id": "CcBHlCTvpndD"
   },
   "outputs": [],
   "source": []
  },
  {
   "cell_type": "code",
   "execution_count": 243,
   "metadata": {
    "id": "klA44_pUiFZB"
   },
   "outputs": [],
   "source": [
    "one_image = imread(\"dataset/n02123045_0_gray.jpeg\")"
   ]
  },
  {
   "cell_type": "code",
   "execution_count": 244,
   "metadata": {
    "colab": {
     "base_uri": "https://localhost:8080/",
     "height": 449
    },
    "executionInfo": {
     "elapsed": 679,
     "status": "ok",
     "timestamp": 1695986156564,
     "user": {
      "displayName": "Miguel de Llanza",
      "userId": "02333807101257220127"
     },
     "user_tz": -120
    },
    "id": "ymPVfLCHiFZB",
    "outputId": "ea7deb78-a83d-45de-dc40-64ea4d04da57"
   },
   "outputs": [
    {
     "data": {
      "text/plain": [
       "<matplotlib.image.AxesImage at 0x33a502490>"
      ]
     },
     "execution_count": 244,
     "metadata": {},
     "output_type": "execute_result"
    },
    {
     "data": {
      "image/png": "[encoded data removed]",
      "text/plain": [
       "<Figure size 640x480 with 1 Axes>"
      ]
     },
     "metadata": {},
     "output_type": "display_data"
    }
   ],
   "source": [
    "plt.imshow(one_image)"
   ]
  },
  {
   "cell_type": "code",
   "execution_count": 245,
   "metadata": {
    "colab": {
     "base_uri": "https://localhost:8080/"
    },
    "executionInfo": {
     "elapsed": 4,
     "status": "ok",
     "timestamp": 1695986158367,
     "user": {
      "displayName": "Miguel de Llanza",
      "userId": "02333807101257220127"
     },
     "user_tz": -120
    },
    "id": "8AOglu7BiFZB",
    "outputId": "3499d7a6-b0ea-4e23-f7a2-0987fc4a71e0"
   },
   "outputs": [
    {
     "name": "stdout",
     "output_type": "stream",
     "text": [
      "[Errno 2] No such file or directory: '../dataset/grayscale/'\n",
      "/Users/md623/PhD/synergyPaper\n"
     ]
    }
   ],
   "source": [
    "%cd ../dataset/grayscale/"
   ]
  },
  {
   "cell_type": "code",
   "execution_count": 246,
   "metadata": {
    "id": "T8yFv9IKqFoZ"
   },
   "outputs": [],
   "source": [
    "import os\n",
    "cats_grayscale = []\n",
    "for path in os.listdir(\"dataset/\"):\n",
    "    if path[-4:] == 'jpeg':\n",
    "        cats_grayscale.append(imread(\"dataset/\" + path))\n"
   ]
  },
  {
   "cell_type": "code",
   "execution_count": 247,
   "metadata": {
    "id": "T4DbDxlsiFZB"
   },
   "outputs": [
    {
     "data": {
      "text/plain": [
       "\"from os import listdir\\ncats_grayscale = []\\nfor path in listdir():\\n    if path[-4:] == 'jpeg':\\n        cats_grayscale.append(imread(path))\""
      ]
     },
     "execution_count": 247,
     "metadata": {},
     "output_type": "execute_result"
    }
   ],
   "source": [
    "\"\"\"from os import listdir\n",
    "cats_grayscale = []\n",
    "for path in listdir():\n",
    "    if path[-4:] == 'jpeg':\n",
    "        cats_grayscale.append(imread(path))\"\"\""
   ]
  },
  {
   "cell_type": "code",
   "execution_count": 248,
   "metadata": {
    "id": "PLd9L1diiFZB"
   },
   "outputs": [],
   "source": [
    "cats_grayscale = np.array(cats_grayscale)"
   ]
  },
  {
   "cell_type": "code",
   "execution_count": 249,
   "metadata": {
    "colab": {
     "base_uri": "https://localhost:8080/"
    },
    "executionInfo": {
     "elapsed": 340,
     "status": "ok",
     "timestamp": 1695986363768,
     "user": {
      "displayName": "Miguel de Llanza",
      "userId": "02333807101257220127"
     },
     "user_tz": -120
    },
    "id": "52idFK7iiFZB",
    "outputId": "a8135214-de5c-41cc-9f47-8fff74813de2"
   },
   "outputs": [
    {
     "data": {
      "text/plain": [
       "(501, 64, 64)"
      ]
     },
     "execution_count": 249,
     "metadata": {},
     "output_type": "execute_result"
    }
   ],
   "source": [
    "cats_grayscale.shape"
   ]
  },
  {
   "cell_type": "code",
   "execution_count": null,
   "metadata": {
    "id": "YIvHpNshiFZB"
   },
   "outputs": [],
   "source": [
    "with open('cats_grayscale.pkl', 'wb') as pfile:\n",
    "    pkl.dump(cats_grayscale, pfile)"
   ]
  },
  {
   "cell_type": "code",
   "execution_count": null,
   "metadata": {
    "id": "7_hgBemOiFZC"
   },
   "outputs": [],
   "source": [
    "with open('cats_grayscale.pkl', 'rb') as pfile:\n",
    "    cats_grayscale = pkl.load(pfile)"
   ]
  },
  {
   "cell_type": "markdown",
   "metadata": {
    "id": "nED5IN1NiFZC"
   },
   "source": [
    "Another worked-out example for the paper"
   ]
  },
  {
   "cell_type": "code",
   "execution_count": null,
   "metadata": {
    "colab": {
     "base_uri": "https://localhost:8080/",
     "height": 449
    },
    "executionInfo": {
     "elapsed": 381,
     "status": "ok",
     "timestamp": 1695986367584,
     "user": {
      "displayName": "Miguel de Llanza",
      "userId": "02333807101257220127"
     },
     "user_tz": -120
    },
    "id": "Qomw2ep9iFZC",
    "outputId": "1554071d-ca3b-41ac-a364-de64604cce72"
   },
   "outputs": [],
   "source": [
    "n = 4\n",
    "plt.imshow(cats_grayscale[n])"
   ]
  },
  {
   "cell_type": "code",
   "execution_count": null,
   "metadata": {
    "colab": {
     "base_uri": "https://localhost:8080/",
     "height": 432
    },
    "executionInfo": {
     "elapsed": 562,
     "status": "ok",
     "timestamp": 1695986369658,
     "user": {
      "displayName": "Miguel de Llanza",
      "userId": "02333807101257220127"
     },
     "user_tz": -120
    },
    "id": "Tu83oKaJiFZC",
    "outputId": "fe7d8321-1a02-45db-8443-dd791be9c843"
   },
   "outputs": [],
   "source": [
    "groundtruth = cats_grayscale[n]\n",
    "\n",
    "plt.imshow(groundtruth)\n",
    "plt.savefig(\"cat_groundtruth.pdf\")"
   ]
  },
  {
   "cell_type": "code",
   "execution_count": null,
   "metadata": {
    "id": "yLRBC93BiFZC"
   },
   "outputs": [],
   "source": [
    "cat2 = Single_Enc_One_Side(64, 20)\n",
    "cat2.fitnessmap = groundtruth"
   ]
  },
  {
   "cell_type": "code",
   "execution_count": null,
   "metadata": {
    "colab": {
     "base_uri": "https://localhost:8080/"
    },
    "executionInfo": {
     "elapsed": 1355,
     "status": "ok",
     "timestamp": 1695986373271,
     "user": {
      "displayName": "Miguel de Llanza",
      "userId": "02333807101257220127"
     },
     "user_tz": -120
    },
    "id": "1WGnvN83iFZC",
    "outputId": "4e03ce18-5c96-40e8-81c2-d12aa9d1ff57"
   },
   "outputs": [],
   "source": [
    "cat2.main(cat2.random_single_enc(), cat2.random_single_enc())"
   ]
  },
  {
   "cell_type": "code",
   "execution_count": null,
   "metadata": {
    "colab": {
     "base_uri": "https://localhost:8080/",
     "height": 432
    },
    "executionInfo": {
     "elapsed": 546,
     "status": "ok",
     "timestamp": 1695986374936,
     "user": {
      "displayName": "Miguel de Llanza",
      "userId": "02333807101257220127"
     },
     "user_tz": -120
    },
    "id": "vaxwi4uciFZC",
    "outputId": "1f0dbc4c-41b3-4b47-ca1a-23cd8f6dfffa"
   },
   "outputs": [],
   "source": [
    "rep1 = cat2.represent_1()"
   ]
  },
  {
   "cell_type": "code",
   "execution_count": null,
   "metadata": {
    "colab": {
     "base_uri": "https://localhost:8080/",
     "height": 432
    },
    "executionInfo": {
     "elapsed": 617,
     "status": "ok",
     "timestamp": 1695986376499,
     "user": {
      "displayName": "Miguel de Llanza",
      "userId": "02333807101257220127"
     },
     "user_tz": -120
    },
    "id": "oMPaJdNbiFZC",
    "outputId": "f80f5637-fb88-4cdd-90c6-8ee5f0185bdb"
   },
   "outputs": [],
   "source": [
    "rep2 = cat2.represent_2()"
   ]
  },
  {
   "cell_type": "code",
   "execution_count": null,
   "metadata": {
    "id": "dWA78n2IiFZC"
   },
   "outputs": [],
   "source": [
    "algo = Algorithm(64, 20)\n",
    "algo.fitnessmap = groundtruth\n",
    "algo.enc1 = cat2.enc1\n",
    "algo.enc2 = cat2.enc2"
   ]
  },
  {
   "cell_type": "code",
   "execution_count": null,
   "metadata": {
    "id": "Oe22E2U_iFZC"
   },
   "outputs": [],
   "source": [
    "algo.decoder, mse = algo.mmse_decoder()"
   ]
  },
  {
   "cell_type": "code",
   "execution_count": null,
   "metadata": {
    "colab": {
     "base_uri": "https://localhost:8080/"
    },
    "executionInfo": {
     "elapsed": 2,
     "status": "ok",
     "timestamp": 1695986379377,
     "user": {
      "displayName": "Miguel de Llanza",
      "userId": "02333807101257220127"
     },
     "user_tz": -120
    },
    "id": "YYg8mpGGiFZC",
    "outputId": "2561a21c-f372-4003-a5aa-7a6611931b6e"
   },
   "outputs": [],
   "source": [
    "mse"
   ]
  },
  {
   "cell_type": "code",
   "execution_count": null,
   "metadata": {
    "colab": {
     "base_uri": "https://localhost:8080/",
     "height": 432
    },
    "executionInfo": {
     "elapsed": 400,
     "status": "ok",
     "timestamp": 1695986380619,
     "user": {
      "displayName": "Miguel de Llanza",
      "userId": "02333807101257220127"
     },
     "user_tz": -120
    },
    "id": "bb9W60akiFZC",
    "outputId": "02f49684-f0ce-48a2-aff1-8baeca481c2e"
   },
   "outputs": [],
   "source": [
    "repmyopic = algo.represent()"
   ]
  },
  {
   "cell_type": "code",
   "execution_count": null,
   "metadata": {
    "colab": {
     "base_uri": "https://localhost:8080/"
    },
    "executionInfo": {
     "elapsed": 24067,
     "status": "ok",
     "timestamp": 1695986406734,
     "user": {
      "displayName": "Miguel de Llanza",
      "userId": "02333807101257220127"
     },
     "user_tz": -120
    },
    "id": "SfyHgGnRiFZC",
    "outputId": "5b33af77-e0ca-4789-94bf-899c8d4bd58a"
   },
   "outputs": [],
   "source": [
    "algo.main_loop()"
   ]
  },
  {
   "cell_type": "code",
   "execution_count": null,
   "metadata": {
    "colab": {
     "base_uri": "https://localhost:8080/",
     "height": 432
    },
    "executionInfo": {
     "elapsed": 1473,
     "status": "ok",
     "timestamp": 1695986420119,
     "user": {
      "displayName": "Miguel de Llanza",
      "userId": "02333807101257220127"
     },
     "user_tz": -120
    },
    "id": "udmjl2_FiFZC",
    "outputId": "80bc0831-b64e-49ac-b40d-6bd8be570ad6"
   },
   "outputs": [],
   "source": [
    "repgood = algo.represent()"
   ]
  },
  {
   "cell_type": "code",
   "execution_count": null,
   "metadata": {
    "colab": {
     "base_uri": "https://localhost:8080/",
     "height": 412
    },
    "executionInfo": {
     "elapsed": 1566,
     "status": "ok",
     "timestamp": 1695986431727,
     "user": {
      "displayName": "Miguel de Llanza",
      "userId": "02333807101257220127"
     },
     "user_tz": -120
    },
    "id": "BK1nNyrmiFZD",
    "outputId": "ce937bcb-ead6-4f79-80fa-679e836cdb44"
   },
   "outputs": [],
   "source": [
    "plt.subplot(2, 3, 1)\n",
    "plt.imshow(groundtruth)\n",
    "plt.subplot(2, 3, 2)\n",
    "plt.imshow(rep1)\n",
    "plt.subplot(2, 3, 4)\n",
    "plt.imshow(rep2)\n",
    "plt.subplot(2, 3, 5)\n",
    "plt.imshow(repmyopic)\n",
    "plt.subplot(2, 3, 6)\n",
    "plt.imshow(repgood)\n",
    "plt.savefig(\"cat0.pdf\")"
   ]
  },
  {
   "cell_type": "markdown",
   "metadata": {
    "id": "eJADbXTsiFZD"
   },
   "source": [
    "# Same Encoder for Many Fitness Maps\n",
    "\n",
    "I think I have all the data I wanted. One final thing, perhaps, is to see what happens when we optimize the two encoders for, say, 50 cats. I guess they will be even more attuned to their own sensory data.\n",
    "\n",
    "First, as a benchmark, I calculate the best encoder when the distortion measure is related to the sensory data itself."
   ]
  },
  {
   "cell_type": "code",
   "execution_count": 230,
   "metadata": {
    "id": "YHgHxFBJiFZD"
   },
   "outputs": [],
   "source": [
    "benchmark = Single_Enc_One_Side(36, 6)"
   ]
  },
  {
   "cell_type": "code",
   "execution_count": 231,
   "metadata": {
    "id": "BAxX-0zRiFZD"
   },
   "outputs": [],
   "source": [
    "fitnessmapT = np.array([list(range(36))] * 36)"
   ]
  },
  {
   "cell_type": "code",
   "execution_count": 232,
   "metadata": {
    "id": "XhwJnGIEiFZD"
   },
   "outputs": [],
   "source": [
    "fitnessmap = fitnessmapT.T"
   ]
  },
  {
   "cell_type": "code",
   "execution_count": 233,
   "metadata": {
    "id": "J0Vi27gNiFZD"
   },
   "outputs": [],
   "source": [
    "benchmark.fitnessmap = fitnessmap"
   ]
  },
  {
   "cell_type": "code",
   "execution_count": 234,
   "metadata": {
    "id": "DUyX7uLoiFZD"
   },
   "outputs": [],
   "source": [
    "benchmark.enc = benchmark.random_single_enc()"
   ]
  },
  {
   "cell_type": "code",
   "execution_count": 235,
   "metadata": {
    "id": "mkKZoKcViFZD",
    "outputId": "b1844757-fdf9-450e-c976-544b66182677"
   },
   "outputs": [
    {
     "data": {
      "text/plain": [
       "3.083333333333333"
      ]
     },
     "execution_count": 235,
     "metadata": {},
     "output_type": "execute_result"
    }
   ],
   "source": [
    "benchmark.main_loop()"
   ]
  },
  {
   "cell_type": "code",
   "execution_count": 236,
   "metadata": {
    "id": "YsqzN4uOiFZD"
   },
   "outputs": [],
   "source": [
    "enc_regular = np.array(\n",
    "    [0, 0, 0, 0, 0, 0, 1, 1, 1, 1, 1, 1, 2, 2, 2, 2, 2, 2, 3, 3, 3, 3, 3, 3, 4, 4, 4, 4, 4, 4, 5, 5, 5, 5, 5, 5])"
   ]
  },
  {
   "cell_type": "code",
   "execution_count": 237,
   "metadata": {
    "id": "zPvvYKbKiFZD"
   },
   "outputs": [],
   "source": [
    "benchmark.enc = enc_regular"
   ]
  },
  {
   "cell_type": "code",
   "execution_count": 238,
   "metadata": {
    "id": "KtV6G1rjiFZD",
    "outputId": "50d091e9-3a08-4120-fc60-3314532b20ad"
   },
   "outputs": [
    {
     "data": {
      "text/plain": [
       "(array([ 2.5,  8.5, 14.5, 20.5, 26.5, 32.5]), 2.9166666666666665)"
      ]
     },
     "execution_count": 238,
     "metadata": {},
     "output_type": "execute_result"
    }
   ],
   "source": [
    "benchmark.mmse_decoder()"
   ]
  },
  {
   "cell_type": "markdown",
   "metadata": {
    "id": "rh8_Xh32iFZD"
   },
   "source": [
    "Now I calculate the best encoders for, say, 50 different fitness maps"
   ]
  },
  {
   "cell_type": "code",
   "execution_count": 250,
   "metadata": {
    "id": "WzB3Naa4iFZD"
   },
   "outputs": [],
   "source": [
    "class ManyFitnessMaps(Algorithm):\n",
    "\n",
    "    \"\"\"Here self.fitnessmap is a collection of fitnessmaps\"\"\"\n",
    "\n",
    "    def mmse_decoder(self):\n",
    "        \"\"\"\n",
    "        Calculate the mmse decoder for two encoders,\n",
    "        given a fitnessmap and a maximum number of signals\n",
    "        \"\"\"\n",
    "        pairs = list(it.product(range(self.signals), repeat=2))\n",
    "        decoder = np.empty((self.signals, self.signals))\n",
    "        samples = []\n",
    "        mse = []\n",
    "        for pair in pairs:\n",
    "            values = self.mmse_pairofsignals(*pair)\n",
    "            decoder[pair] = values.mean()\n",
    "            samples.append(values.shape[0])\n",
    "            new_mse = ((values - values.mean()) ** 2).mean()\n",
    "            mse.append(new_mse)\n",
    "        norm_samples = np.array(samples) / np.array(samples).sum()\n",
    "        return decoder, np.array(mse) @ norm_samples\n",
    "\n",
    "    def many_mmse_decoders(self):\n",
    "        mses = []\n",
    "        fitnessmap_bak = self.fitnessmap.copy()\n",
    "        for fitnessmap in fitnessmap_bak:\n",
    "            self.fitnessmap = fitnessmap\n",
    "            _, mse = self.mmse_decoder()\n",
    "            mses.append(mse)\n",
    "        self.fitnessmap = fitnessmap_bak\n",
    "        return np.array(mses).mean()\n",
    "\n",
    "    def modify_enc(self, pair):\n",
    "        encoders = {0:self.enc1, 1:self.enc2}\n",
    "        index, enc = pair\n",
    "        enc1_backup = self.enc1.copy()\n",
    "        enc2_backup = self.enc2.copy()\n",
    "        actual_signal = encoders[enc][index]\n",
    "        loop = [signal for signal in range(self.signals) if signal != actual_signal]\n",
    "        for signal in loop:\n",
    "            encoders[enc][index] = signal\n",
    "            mse = self.many_mmse_decoders()\n",
    "            if mse < self.mse:\n",
    "                print(mse)\n",
    "                self.mse = mse\n",
    "                return True\n",
    "        self.enc1 = enc1_backup\n",
    "        self.enc2 = enc2_backup\n",
    "        return False"
   ]
  },
  {
   "cell_type": "code",
   "execution_count": 251,
   "metadata": {
    "id": "KGU13D_iiFZD"
   },
   "outputs": [],
   "source": [
    "many = ManyFitnessMaps(36, 6)"
   ]
  },
  {
   "cell_type": "code",
   "execution_count": 252,
   "metadata": {
    "id": "7FdL_L3wiFZD"
   },
   "outputs": [],
   "source": [
    "many.fitnessmap = cats_grayscale[50:100]\n",
    "many.enc1 = many.random_enc()\n",
    "many.enc2 = many.random_enc()"
   ]
  },
  {
   "cell_type": "code",
   "execution_count": 253,
   "metadata": {
    "id": "pBbDn0DEiFZD",
    "outputId": "5adbfe36-a61e-4b81-a597-567e85f248a9",
    "scrolled": true
   },
   "outputs": [
    {
     "name": "stdout",
     "output_type": "stream",
     "text": [
      "2487.963480350271\n",
      "2450.5817527172876\n",
      "2445.1384724048826\n",
      "2411.885816959829\n",
      "2409.9553453703893\n",
      "2408.9016290330646\n",
      "2397.4677082709723\n",
      "2365.9994071864385\n",
      "2362.7059428119283\n",
      "2351.177652753997\n",
      "2349.551214992465\n",
      "2347.4005032933474\n",
      "2322.9773623436377\n",
      "2287.7959175176093\n",
      "2274.7344813932978\n",
      "2268.09253933593\n",
      "2267.7174028527947\n",
      "2242.9911171682097\n",
      "2239.3988076817554\n",
      "2173.933345021589\n",
      "2169.3028087090593\n",
      "2153.2288270821086\n",
      "2135.7575447975305\n",
      "2119.3524000570537\n",
      "2115.4813870694697\n",
      "2110.131633374669\n",
      "2108.6389393708355\n",
      "2105.927501591588\n",
      "2084.3527512325772\n",
      "2065.118598147772\n",
      "2059.6439695733793\n",
      "2057.077123983441\n",
      "2056.8921643435847\n",
      "2007.2585039189332\n",
      "1995.0973881179902\n",
      "1992.0735086552359\n",
      "1991.4070866689704\n",
      "1987.2376213998361\n",
      "1986.1888381761198\n",
      "1981.9247047956328\n",
      "1972.1390418419871\n",
      "1952.21485744269\n",
      "1951.878950123961\n",
      "1918.8672128821281\n",
      "1902.3271869035368\n",
      "1889.2300376661508\n",
      "1850.9161835397506\n",
      "1841.5255901008422\n",
      "1837.1331849262485\n",
      "1834.0581434748688\n",
      "1817.6293095968877\n",
      "1816.9457794399943\n",
      "1793.6392558570528\n",
      "1785.9112657700766\n",
      "1777.6980299935321\n",
      "1748.3111688748756\n",
      "1742.9526093875875\n",
      "1738.44989375538\n",
      "1716.3464072569354\n",
      "1713.2475015289206\n",
      "1695.3072752457704\n",
      "1694.1209891837984\n",
      "1669.4865676629613\n",
      "1637.83408311139\n",
      "1634.3665615226894\n",
      "1618.392124638999\n",
      "1575.5416816367208\n",
      "1560.1230824028144\n",
      "1530.6957881898516\n",
      "1501.1947540194562\n",
      "1488.483068369879\n",
      "1485.5401779796268\n",
      "1456.2478170667748\n",
      "1450.397623816481\n",
      "1431.194999131349\n",
      "1430.1275329671441\n",
      "1426.3615121919872\n",
      "1381.1327472911328\n",
      "1355.0197756436846\n",
      "1340.996131249966\n",
      "1313.4800638510742\n",
      "1307.698656899383\n",
      "1307.4648319730734\n",
      "1294.881517423188\n",
      "1292.4437133212443\n",
      "1266.4682195804373\n",
      "1264.4469269109468\n",
      "1229.0547015930172\n",
      "1227.0709103897216\n",
      "1212.7876822083142\n",
      "1212.659864213861\n",
      "1189.1314436932523\n",
      "1188.8599836852163\n",
      "1117.3303301614349\n",
      "1116.7011134929967\n",
      "1105.940818755074\n",
      "1103.1161424894206\n",
      "1099.7478477771594\n",
      "1098.5348876230016\n",
      "1084.4891472619397\n",
      "1083.6786178902116\n",
      "1051.1641777368354\n",
      "1051.0787696986715\n",
      "1038.8882049303982\n",
      "1037.2503320002588\n",
      "1037.1573039922243\n",
      "1029.5115455829553\n",
      "1026.4005877089107\n",
      "1022.7400164505822\n",
      "1020.9313603627768\n",
      "1020.8649961083815\n",
      "1020.733257106814\n",
      "1020.5683768385541\n",
      "1019.0814047458076\n",
      "1017.74993898967\n",
      "1016.6973001571204\n",
      "1015.0938358359751\n",
      "1014.6136495815662\n"
     ]
    },
    {
     "data": {
      "text/plain": [
       "1014.6136495815662"
      ]
     },
     "execution_count": 253,
     "metadata": {},
     "output_type": "execute_result"
    }
   ],
   "source": [
    "many.main_loop()"
   ]
  },
  {
   "cell_type": "code",
   "execution_count": 254,
   "metadata": {
    "id": "RiDmBc6yiFZE",
    "outputId": "76bb039e-9da8-4c73-e2f0-396c1c1054d9"
   },
   "outputs": [
    {
     "data": {
      "text/plain": [
       "array([4, 4, 4, 3, 3, 3, 3, 3, 3, 3, 3, 5, 5, 5, 5, 5, 5, 5, 0, 0, 0, 0,\n",
       "       0, 0, 0, 1, 1, 1, 1, 1, 2, 2, 2, 2, 2, 2])"
      ]
     },
     "execution_count": 254,
     "metadata": {},
     "output_type": "execute_result"
    }
   ],
   "source": [
    "many.enc1"
   ]
  },
  {
   "cell_type": "code",
   "execution_count": 255,
   "metadata": {
    "id": "4DEi6ZNWiFZE",
    "outputId": "c4a7bfd2-af7c-4cf7-fa39-b3d868941bc4"
   },
   "outputs": [
    {
     "data": {
      "text/plain": [
       "array([5, 5, 5, 5, 5, 5, 1, 1, 1, 1, 1, 1, 2, 2, 2, 2, 2, 3, 3, 3, 3, 3,\n",
       "       3, 4, 4, 4, 4, 4, 4, 4, 0, 0, 0, 0, 0, 0])"
      ]
     },
     "execution_count": 255,
     "metadata": {},
     "output_type": "execute_result"
    }
   ],
   "source": [
    "many.enc2"
   ]
  },
  {
   "cell_type": "code",
   "execution_count": 256,
   "metadata": {
    "id": "LfI3h5LsiFZE",
    "outputId": "26c6d7d2-5a35-4db5-a10b-ac815f4b97d6"
   },
   "outputs": [
    {
     "data": {
      "text/plain": [
       "1014.6136495815662"
      ]
     },
     "execution_count": 256,
     "metadata": {},
     "output_type": "execute_result"
    }
   ],
   "source": [
    "many.mse"
   ]
  },
  {
   "cell_type": "code",
   "execution_count": 257,
   "metadata": {
    "id": "_A-ylv-wiFZE",
    "outputId": "ce2494b1-c6f0-4b31-d1df-e8d8fbc58310"
   },
   "outputs": [
    {
     "data": {
      "text/plain": [
       "1014.6136495815662"
      ]
     },
     "execution_count": 257,
     "metadata": {},
     "output_type": "execute_result"
    }
   ],
   "source": [
    "many.many_mmse_decoders()"
   ]
  },
  {
   "cell_type": "code",
   "execution_count": 258,
   "metadata": {
    "id": "ldP7RPN-iFZE",
    "outputId": "4af961db-d80c-4792-aadb-387823290867"
   },
   "outputs": [
    {
     "data": {
      "text/plain": [
       "array([[109.24023438, 109.24023438, 109.24023438, ..., 110.42838542,\n",
       "        110.42838542, 110.42838542],\n",
       "       [109.24023438, 109.24023438, 109.24023438, ..., 110.42838542,\n",
       "        110.42838542, 110.42838542],\n",
       "       [109.24023438, 109.24023438, 109.24023438, ..., 110.42838542,\n",
       "        110.42838542, 110.42838542],\n",
       "       ...,\n",
       "       [117.36067708, 117.36067708, 117.36067708, ..., 123.94097222,\n",
       "        123.94097222, 123.94097222],\n",
       "       [117.36067708, 117.36067708, 117.36067708, ..., 123.94097222,\n",
       "        123.94097222, 123.94097222],\n",
       "       [117.36067708, 117.36067708, 117.36067708, ..., 123.94097222,\n",
       "        123.94097222, 123.94097222]])"
      ]
     },
     "execution_count": 258,
     "metadata": {},
     "output_type": "execute_result"
    },
    {
     "data": {
      "image/png": "[encoded data removed]",
      "text/plain": [
       "<Figure size 640x480 with 1 Axes>"
      ]
     },
     "metadata": {},
     "output_type": "display_data"
    }
   ],
   "source": [
    "# Here we see that when you try to optimize for various different pictures you end up developing\n",
    "# a more or less regular tiling: as informative about sensory input as the number of signals allows\n",
    "many.represent()"
   ]
  },
  {
   "cell_type": "markdown",
   "metadata": {
    "id": "bh8a_1QNiFZE"
   },
   "source": [
    "# Best encoder for a Gaussian\n",
    "\n",
    "Now, for the paper, let's calculate the best encoder for a Gaussian"
   ]
  },
  {
   "cell_type": "code",
   "execution_count": null,
   "metadata": {
    "id": "gqd9R7SHiFZE"
   },
   "outputs": [],
   "source": [
    "from scipy.stats.distributions import norm"
   ]
  },
  {
   "cell_type": "code",
   "execution_count": null,
   "metadata": {
    "id": "ZfCNsXnmiFZE",
    "outputId": "73b743a8-0481-458b-c216-bd5a077215e1"
   },
   "outputs": [],
   "source": [
    "plt.plot(np.linspace(-4, 4, num=36), norm.pdf(np.linspace(-4, 4, num=36)))"
   ]
  },
  {
   "cell_type": "code",
   "execution_count": null,
   "metadata": {
    "id": "5Q5VoIgViFZE"
   },
   "outputs": [],
   "source": [
    "gauss = Single_Enc_One_Side(36, 6)"
   ]
  },
  {
   "cell_type": "code",
   "execution_count": null,
   "metadata": {
    "id": "nWeo7j-liFZE"
   },
   "outputs": [],
   "source": [
    "gauss.fitnessmap = norm.pdf(np.linspace(-4, 4, num=36))"
   ]
  },
  {
   "cell_type": "code",
   "execution_count": null,
   "metadata": {
    "id": "v-OFHb4DiFZE"
   },
   "outputs": [],
   "source": [
    "gauss.enc = gauss.random_single_enc()"
   ]
  },
  {
   "cell_type": "code",
   "execution_count": null,
   "metadata": {
    "id": "irjJ2wkciFZF",
    "outputId": "063f3529-43bc-474d-88b5-dead963c4dd7"
   },
   "outputs": [],
   "source": [
    "gauss.main_loop()"
   ]
  },
  {
   "cell_type": "code",
   "execution_count": null,
   "metadata": {
    "id": "08hYrfbPiFZF",
    "outputId": "b14c1243-2938-408f-faff-dc3bc0f91f5c"
   },
   "outputs": [],
   "source": [
    "gauss.enc"
   ]
  },
  {
   "cell_type": "code",
   "execution_count": null,
   "metadata": {
    "id": "7LFF0xeciFZF"
   },
   "outputs": [],
   "source": [
    "gauss.decoder2 = gauss.decoder\n",
    "gauss.enc2 = gauss.enc"
   ]
  },
  {
   "cell_type": "code",
   "execution_count": null,
   "metadata": {
    "id": "VovwsApUiFZF",
    "outputId": "98785b41-9f70-43b2-b22a-ffb1f28a29a6"
   },
   "outputs": [],
   "source": [
    "enc_arr = gauss.represent_2()"
   ]
  },
  {
   "cell_type": "code",
   "execution_count": null,
   "metadata": {
    "id": "1l0BF_vEiFZF",
    "outputId": "2db93cd0-63a7-4bd8-bd0f-fb2247a79f07"
   },
   "outputs": [],
   "source": [
    "sensory = np.arange(36)\n",
    "fitnessmap = gauss.fitnessmap\n",
    "plt.plot(sensory, fitnessmap)\n",
    "plt.xlabel('basic-property value')\n",
    "plt.ylabel('affordance value')\n",
    "\n",
    "fig.tight_layout()\n",
    "# plt.savefig(\"two_essence_kinds_rd_with_majority.pdf\")\n",
    "ax1.plot(sensory, fitnessmap)\n",
    "\n",
    "plt.savefig(\"gaussian_energy_array.pdf\")\n",
    "plt.show()"
   ]
  },
  {
   "cell_type": "code",
   "execution_count": null,
   "metadata": {
    "id": "duAIHZxUiFZF",
    "outputId": "ee089a59-5c27-4b3d-fbfb-37a72ddd5419"
   },
   "outputs": [],
   "source": [
    "fig, ax1 = plt.subplots()\n",
    "sensory = np.arange(36)\n",
    "fitnessmap = gauss.fitnessmap\n",
    "ax1.plot(sensory, fitnessmap)\n",
    "ax1.set_xlabel('basic-property value')\n",
    "# Make the y-axis label, ticks and tick labels match the line color.\n",
    "ax1.set_ylabel('affordance value')\n",
    "ax1.tick_params('y')\n",
    "# ax1.axis([0, dit.shannon.entropy(two_essence_dist), 0, max(distortion)])\n",
    "\n",
    "ax2 = ax1.twinx()\n",
    "ax2.imshow(enc_arr, alpha=.5)\n",
    "# ax2.axis([0, dit.shannon.entropy(two_essence_dist), -10, 0])\n",
    "\n",
    "fig.tight_layout()\n",
    "# plt.savefig(\"two_essence_kinds_rd_with_majority.pdf\")\n",
    "ax1.plot(sensory, fitnessmap)\n",
    "\n",
    "plt.savefig(\"optimal_codec_gauss.pdf\")\n",
    "plt.show()"
   ]
  },
  {
   "cell_type": "markdown",
   "metadata": {
    "id": "3f0MDy2JiFZF"
   },
   "source": [
    "## Leftovers"
   ]
  },
  {
   "cell_type": "code",
   "execution_count": null,
   "metadata": {},
   "outputs": [],
   "source": [
    "\"\"\"def quantize_fitnessmap(fm, n=5):\n",
    "    fm_flatten = fm.flatten()\n",
    "    mini, maxi = np.min(fm_flatten), np.max(fm_flatten)\n",
    "\n",
    "    intervals = np.linspace(mini, maxi, n)\n",
    "    inds = []\n",
    "    for i,interval in enumerate(intervals):\n",
    "        if i == 0:\n",
    "            inds.append(fm < intervals[i+1])\n",
    "        elif i < n - 1:\n",
    "            inds.append((fm > intervals[i]) & (fm <= intervals[i+1]))\n",
    "        \n",
    "\n",
    "    for j,ind in enumerate(inds):\n",
    "        fm[ind] = np.mean([intervals[j], intervals[j+1]])\n",
    "                \n",
    "    return fm\"\"\""
   ]
  }
 ],
 "metadata": {
  "colab": {
   "provenance": []
  },
  "kernelspec": {
   "display_name": "Python 3 (ipykernel)",
   "language": "python",
   "name": "python3"
  },
  "language_info": {
   "codemirror_mode": {
    "name": "ipython",
    "version": 3
   },
   "file_extension": ".py",
   "mimetype": "text/x-python",
   "name": "python",
   "nbconvert_exporter": "python",
   "pygments_lexer": "ipython3",
   "version": "3.9.13"
  }
 },
 "nbformat": 4,
 "nbformat_minor": 1
}
